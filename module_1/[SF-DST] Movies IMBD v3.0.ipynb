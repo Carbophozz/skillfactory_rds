{
 "cells": [
  {
   "cell_type": "code",
   "execution_count": 1,
   "metadata": {
    "_cell_guid": "b1076dfc-b9ad-4769-8c92-a6c4dae69d19",
    "_uuid": "8f2839f25d086af736a60e9eeb907d3b93b6e0e5"
   },
   "outputs": [],
   "source": [
    "import numpy as np\n",
    "import pandas as pd\n",
    "import seaborn as sns\n",
    "import matplotlib.pyplot as plt\n",
    "import os\n",
    "from collections import Counter\n",
    "import re\n",
    "import datetime as dt\n",
    "import itertools\n",
    "print(os.listdir(\"../input\"))"
   ]
  },
  {
   "cell_type": "code",
   "execution_count": 2,
   "metadata": {},
   "outputs": [
    {
     "data": {
      "text/html": [
       "<div>\n",
       "<style scoped>\n",
       "    .dataframe tbody tr th:only-of-type {\n",
       "        vertical-align: middle;\n",
       "    }\n",
       "\n",
       "    .dataframe tbody tr th {\n",
       "        vertical-align: top;\n",
       "    }\n",
       "\n",
       "    .dataframe thead th {\n",
       "        text-align: right;\n",
       "    }\n",
       "</style>\n",
       "<table border=\"1\" class=\"dataframe\">\n",
       "  <thead>\n",
       "    <tr style=\"text-align: right;\">\n",
       "      <th></th>\n",
       "      <th>imdb_id</th>\n",
       "      <th>popularity</th>\n",
       "      <th>budget</th>\n",
       "      <th>revenue</th>\n",
       "      <th>original_title</th>\n",
       "      <th>cast</th>\n",
       "      <th>director</th>\n",
       "      <th>tagline</th>\n",
       "      <th>overview</th>\n",
       "      <th>runtime</th>\n",
       "      <th>genres</th>\n",
       "      <th>production_companies</th>\n",
       "      <th>release_date</th>\n",
       "      <th>vote_count</th>\n",
       "      <th>vote_average</th>\n",
       "      <th>release_year</th>\n",
       "    </tr>\n",
       "  </thead>\n",
       "  <tbody>\n",
       "    <tr>\n",
       "      <td>0</td>\n",
       "      <td>tt0369610</td>\n",
       "      <td>32.985763</td>\n",
       "      <td>150000000</td>\n",
       "      <td>1513528810</td>\n",
       "      <td>Jurassic World</td>\n",
       "      <td>Chris Pratt|Bryce Dallas Howard|Irrfan Khan|Vi...</td>\n",
       "      <td>Colin Trevorrow</td>\n",
       "      <td>The park is open.</td>\n",
       "      <td>Twenty-two years after the events of Jurassic ...</td>\n",
       "      <td>124</td>\n",
       "      <td>Action|Adventure|Science Fiction|Thriller</td>\n",
       "      <td>Universal Studios|Amblin Entertainment|Legenda...</td>\n",
       "      <td>6/9/2015</td>\n",
       "      <td>5562</td>\n",
       "      <td>6.5</td>\n",
       "      <td>2015</td>\n",
       "    </tr>\n",
       "    <tr>\n",
       "      <td>1</td>\n",
       "      <td>tt1392190</td>\n",
       "      <td>28.419936</td>\n",
       "      <td>150000000</td>\n",
       "      <td>378436354</td>\n",
       "      <td>Mad Max: Fury Road</td>\n",
       "      <td>Tom Hardy|Charlize Theron|Hugh Keays-Byrne|Nic...</td>\n",
       "      <td>George Miller</td>\n",
       "      <td>What a Lovely Day.</td>\n",
       "      <td>An apocalyptic story set in the furthest reach...</td>\n",
       "      <td>120</td>\n",
       "      <td>Action|Adventure|Science Fiction|Thriller</td>\n",
       "      <td>Village Roadshow Pictures|Kennedy Miller Produ...</td>\n",
       "      <td>5/13/2015</td>\n",
       "      <td>6185</td>\n",
       "      <td>7.1</td>\n",
       "      <td>2015</td>\n",
       "    </tr>\n",
       "    <tr>\n",
       "      <td>2</td>\n",
       "      <td>tt2908446</td>\n",
       "      <td>13.112507</td>\n",
       "      <td>110000000</td>\n",
       "      <td>295238201</td>\n",
       "      <td>Insurgent</td>\n",
       "      <td>Shailene Woodley|Theo James|Kate Winslet|Ansel...</td>\n",
       "      <td>Robert Schwentke</td>\n",
       "      <td>One Choice Can Destroy You</td>\n",
       "      <td>Beatrice Prior must confront her inner demons ...</td>\n",
       "      <td>119</td>\n",
       "      <td>Adventure|Science Fiction|Thriller</td>\n",
       "      <td>Summit Entertainment|Mandeville Films|Red Wago...</td>\n",
       "      <td>3/18/2015</td>\n",
       "      <td>2480</td>\n",
       "      <td>6.3</td>\n",
       "      <td>2015</td>\n",
       "    </tr>\n",
       "    <tr>\n",
       "      <td>3</td>\n",
       "      <td>tt2488496</td>\n",
       "      <td>11.173104</td>\n",
       "      <td>200000000</td>\n",
       "      <td>2068178225</td>\n",
       "      <td>Star Wars: The Force Awakens</td>\n",
       "      <td>Harrison Ford|Mark Hamill|Carrie Fisher|Adam D...</td>\n",
       "      <td>J.J. Abrams</td>\n",
       "      <td>Every generation has a story.</td>\n",
       "      <td>Thirty years after defeating the Galactic Empi...</td>\n",
       "      <td>136</td>\n",
       "      <td>Action|Adventure|Science Fiction|Fantasy</td>\n",
       "      <td>Lucasfilm|Truenorth Productions|Bad Robot</td>\n",
       "      <td>12/15/2015</td>\n",
       "      <td>5292</td>\n",
       "      <td>7.5</td>\n",
       "      <td>2015</td>\n",
       "    </tr>\n",
       "    <tr>\n",
       "      <td>4</td>\n",
       "      <td>tt2820852</td>\n",
       "      <td>9.335014</td>\n",
       "      <td>190000000</td>\n",
       "      <td>1506249360</td>\n",
       "      <td>Furious 7</td>\n",
       "      <td>Vin Diesel|Paul Walker|Jason Statham|Michelle ...</td>\n",
       "      <td>James Wan</td>\n",
       "      <td>Vengeance Hits Home</td>\n",
       "      <td>Deckard Shaw seeks revenge against Dominic Tor...</td>\n",
       "      <td>137</td>\n",
       "      <td>Action|Crime|Thriller</td>\n",
       "      <td>Universal Pictures|Original Film|Media Rights ...</td>\n",
       "      <td>4/1/2015</td>\n",
       "      <td>2947</td>\n",
       "      <td>7.3</td>\n",
       "      <td>2015</td>\n",
       "    </tr>\n",
       "  </tbody>\n",
       "</table>\n",
       "</div>"
      ],
      "text/plain": [
       "     imdb_id  popularity     budget     revenue                original_title  \\\n",
       "0  tt0369610   32.985763  150000000  1513528810                Jurassic World   \n",
       "1  tt1392190   28.419936  150000000   378436354            Mad Max: Fury Road   \n",
       "2  tt2908446   13.112507  110000000   295238201                     Insurgent   \n",
       "3  tt2488496   11.173104  200000000  2068178225  Star Wars: The Force Awakens   \n",
       "4  tt2820852    9.335014  190000000  1506249360                     Furious 7   \n",
       "\n",
       "                                                cast          director  \\\n",
       "0  Chris Pratt|Bryce Dallas Howard|Irrfan Khan|Vi...   Colin Trevorrow   \n",
       "1  Tom Hardy|Charlize Theron|Hugh Keays-Byrne|Nic...     George Miller   \n",
       "2  Shailene Woodley|Theo James|Kate Winslet|Ansel...  Robert Schwentke   \n",
       "3  Harrison Ford|Mark Hamill|Carrie Fisher|Adam D...       J.J. Abrams   \n",
       "4  Vin Diesel|Paul Walker|Jason Statham|Michelle ...         James Wan   \n",
       "\n",
       "                         tagline  \\\n",
       "0              The park is open.   \n",
       "1             What a Lovely Day.   \n",
       "2     One Choice Can Destroy You   \n",
       "3  Every generation has a story.   \n",
       "4            Vengeance Hits Home   \n",
       "\n",
       "                                            overview  runtime  \\\n",
       "0  Twenty-two years after the events of Jurassic ...      124   \n",
       "1  An apocalyptic story set in the furthest reach...      120   \n",
       "2  Beatrice Prior must confront her inner demons ...      119   \n",
       "3  Thirty years after defeating the Galactic Empi...      136   \n",
       "4  Deckard Shaw seeks revenge against Dominic Tor...      137   \n",
       "\n",
       "                                      genres  \\\n",
       "0  Action|Adventure|Science Fiction|Thriller   \n",
       "1  Action|Adventure|Science Fiction|Thriller   \n",
       "2         Adventure|Science Fiction|Thriller   \n",
       "3   Action|Adventure|Science Fiction|Fantasy   \n",
       "4                      Action|Crime|Thriller   \n",
       "\n",
       "                                production_companies release_date  vote_count  \\\n",
       "0  Universal Studios|Amblin Entertainment|Legenda...     6/9/2015        5562   \n",
       "1  Village Roadshow Pictures|Kennedy Miller Produ...    5/13/2015        6185   \n",
       "2  Summit Entertainment|Mandeville Films|Red Wago...    3/18/2015        2480   \n",
       "3          Lucasfilm|Truenorth Productions|Bad Robot   12/15/2015        5292   \n",
       "4  Universal Pictures|Original Film|Media Rights ...     4/1/2015        2947   \n",
       "\n",
       "   vote_average  release_year  \n",
       "0           6.5          2015  \n",
       "1           7.1          2015  \n",
       "2           6.3          2015  \n",
       "3           7.5          2015  \n",
       "4           7.3          2015  "
      ]
     },
     "execution_count": 2,
     "metadata": {},
     "output_type": "execute_result"
    }
   ],
   "source": [
    "data = pd.read_csv('../input/imbd-sf/data.csv')\n",
    "#data = pd.read_csv('data.csv') \n",
    "data.head(5)"
   ]
  },
  {
   "cell_type": "code",
   "execution_count": 3,
   "metadata": {},
   "outputs": [
    {
     "name": "stdout",
     "output_type": "stream",
     "text": [
      "<class 'pandas.core.frame.DataFrame'>\n",
      "RangeIndex: 1890 entries, 0 to 1889\n",
      "Data columns (total 16 columns):\n",
      "imdb_id                 1890 non-null object\n",
      "popularity              1890 non-null float64\n",
      "budget                  1890 non-null int64\n",
      "revenue                 1890 non-null int64\n",
      "original_title          1890 non-null object\n",
      "cast                    1890 non-null object\n",
      "director                1890 non-null object\n",
      "tagline                 1890 non-null object\n",
      "overview                1890 non-null object\n",
      "runtime                 1890 non-null int64\n",
      "genres                  1890 non-null object\n",
      "production_companies    1890 non-null object\n",
      "release_date            1890 non-null object\n",
      "vote_count              1890 non-null int64\n",
      "vote_average            1890 non-null float64\n",
      "release_year            1890 non-null int64\n",
      "dtypes: float64(2), int64(5), object(9)\n",
      "memory usage: 236.4+ KB\n"
     ]
    }
   ],
   "source": [
    "data.info()"
   ]
  },
  {
   "cell_type": "markdown",
   "metadata": {},
   "source": [
    "Нормальный датасет, без пропусков. Но много списков \"склеенных\" в строку, что потребует дополнительной обработки при  анализе."
   ]
  },
  {
   "cell_type": "markdown",
   "metadata": {},
   "source": [
    "# Предобработка датасета"
   ]
  },
  {
   "cell_type": "code",
   "execution_count": 4,
   "metadata": {},
   "outputs": [],
   "source": [
    "answer_ls = [] # создадим список с ответами. сюда будем добавлять ответы по мере прохождения теста\n",
    "# сюда можем вписать создание новых колонок в датасете"
   ]
  },
  {
   "cell_type": "markdown",
   "metadata": {},
   "source": [
    "# 1. У какого фильма из списка самый большой бюджет?\n",
    "Варианты ответов:\n",
    "1. The Dark Knight Rises (tt1345836)\n",
    "2. Spider-Man 3 (tt0413300)\n",
    "3. Avengers: Age of Ultron (tt2395427)\n",
    "4. The Warrior's Way\t(tt1032751)\n",
    "5. Pirates of the Caribbean: On Stranger Tides (tt1298650)\n",
    "\n",
    "*Формулировка \"из списка\" (равно как и  формулировка без уточнения \"среди всех фильмов в датасете\") допускает двоякое прочтение: кто из списка является \"абсолютным чемпионом\" всего датасета или кто локально является чемпионом. Первый случай автоматически дает и второй, в обратную сторону совпадения может и не быть. С т.з. собственно pandas разница в получении результата будет только в дополнительном фильтре. Тренировки ради сделаю такой фильтр, а ради очистки совести сверю \"локальные и глобальные ответы\".**"
   ]
  },
  {
   "cell_type": "code",
   "execution_count": 5,
   "metadata": {},
   "outputs": [
    {
     "name": "stdout",
     "output_type": "stream",
     "text": [
      "4. The Warrior's Way\n",
      "The Warrior's Way\n"
     ]
    }
   ],
   "source": [
    "top_5 = ('1. The Dark Knight Rises (tt1345836)'\n",
    "'2. Spider-Man 3 (tt0413300)'\n",
    "'3. Avengers: Age of Ultron (tt2395427)'\n",
    "'4. The Warrior\\'s Way (tt1032751)'\n",
    "'5. Pirates of the Caribbean: On Stranger Tides (tt1298650)')\n",
    "\n",
    "#отбор данных по фильтру\n",
    "def from_top(df=data): return df[df.imdb_id.isin(re.findall(r'tt\\d{7}', top_5))]\n",
    "\n",
    "#поскольку предстоит делать эту операцию не раз,сделаем ее функцией\n",
    "def pick_one(value, df, worst=False): \n",
    "    if worst: return df['original_title'][df[value].idxmin()]\n",
    "    else: return df['original_title'][df[value].idxmax()]\n",
    "\n",
    "#чтобы контролировать результат и гарантировать обновление записанного ответа в случае\n",
    "# критических изменений кода\n",
    "def add_answer(answer):\n",
    "    try:\n",
    "        # можно было бы обойтись и без регулярки, простым find, но с регуляркой удобнее обрабатывать случай с ответом вне списка\n",
    "        answer_ls.append( int(top_5[re.search(str(answer), top_5).start()-3]))\n",
    "        print('{}. {}'.format(answer_ls[-1], answer))\n",
    "    except:\n",
    "        \n",
    "        print('\"{}\": такого варианта нет!'.format(answer))\n",
    "        \n",
    "    \n",
    "    return None\n",
    "\n",
    "#не очень понятно из условия - смотрим, кто в списке абсолютный чемпион или же, кто чемпион списка\n",
    "#технически это одно и то же, берем второе, как более частный случайЮ и для очистки совести смотрим первое\n",
    "add_answer(pick_one('budget', from_top(), worst=False))\n",
    "print(pick_one('budget', data, worst=False))"
   ]
  },
  {
   "cell_type": "markdown",
   "metadata": {},
   "source": [
    "# 2. Какой из фильмов самый длительный (в минутах)\n",
    "1. The Lord of the Rings: The Return of the King\t(tt0167260)\n",
    "2. Gods and Generals\t(tt0279111)\n",
    "3. King Kong\t(tt0360717)\n",
    "4. Pearl Harbor\t(tt0213149)\n",
    "5. Alexander\t(tt0346491)"
   ]
  },
  {
   "cell_type": "code",
   "execution_count": 6,
   "metadata": {},
   "outputs": [
    {
     "name": "stdout",
     "output_type": "stream",
     "text": [
      "Gods and Generals\n",
      "2. Gods and Generals\n"
     ]
    }
   ],
   "source": [
    "top_5 = ('1. The Lord of the Rings: The Return of the King\t(tt0167260)'\n",
    "'2. Gods and Generals\t(tt0279111)'\n",
    "'3. King Kong\t(tt0360717)'\n",
    "'4. Pearl Harbor\t(tt0213149)'\n",
    "'5. Alexander\t(tt0346491)')\n",
    "\n",
    "print(pick_one('runtime', data, worst=False))\n",
    "add_answer(pick_one('runtime', from_top(), worst=False))\n"
   ]
  },
  {
   "cell_type": "markdown",
   "metadata": {},
   "source": [
    "# 3. Какой из фильмов самый короткий (в минутах)\n",
    "Варианты ответов:\n",
    "\n",
    "1. Home on the Range\ttt0299172\n",
    "2. The Jungle Book 2\ttt0283426\n",
    "3. Winnie the Pooh\ttt1449283\n",
    "4. Corpse Bride\ttt0121164\n",
    "5. Hoodwinked!\ttt0443536"
   ]
  },
  {
   "cell_type": "code",
   "execution_count": 7,
   "metadata": {},
   "outputs": [
    {
     "name": "stdout",
     "output_type": "stream",
     "text": [
      "Winnie the Pooh\n",
      "3. Winnie the Pooh\n"
     ]
    }
   ],
   "source": [
    "top_5 = ('1. Home on the Range\ttt0299172'\n",
    "'2. The Jungle Book 2\ttt0283426'\n",
    "'3. Winnie the Pooh\ttt1449283'\n",
    "'4. Corpse Bride\ttt0121164'\n",
    "'5. Hoodwinked!\ttt0443536')\n",
    "\n",
    "\n",
    "print(pick_one('runtime', data, worst=True))\n",
    "add_answer(pick_one('runtime', from_top(), worst=True))"
   ]
  },
  {
   "cell_type": "markdown",
   "metadata": {},
   "source": [
    "# 4. Средняя длительность фильма?\n",
    "\n",
    "Варианты ответов:\n",
    "1. 115\n",
    "2. 110\n",
    "3. 105\n",
    "4. 120\n",
    "5. 100\n"
   ]
  },
  {
   "cell_type": "code",
   "execution_count": 8,
   "metadata": {},
   "outputs": [
    {
     "name": "stdout",
     "output_type": "stream",
     "text": [
      "2. 110\n"
     ]
    }
   ],
   "source": [
    "top_5 = ('1. 115 2. 110 3. 105 4. 120 5. 100')\n",
    "\n",
    "add_answer(round(data['runtime'].mean()))"
   ]
  },
  {
   "cell_type": "markdown",
   "metadata": {},
   "source": [
    "# 5. Средняя длительность фильма по медиане?\n",
    "Варианты ответов:\n",
    "1. 106\n",
    "2. 112\n",
    "3. 101\n",
    "4. 120\n",
    "5. 115\n",
    "\n",
    "\n"
   ]
  },
  {
   "cell_type": "code",
   "execution_count": 9,
   "metadata": {},
   "outputs": [
    {
     "name": "stdout",
     "output_type": "stream",
     "text": [
      "1. 106\n"
     ]
    }
   ],
   "source": [
    "top_5 = ('1. 106 2. 112 3. 101 4. 120 5. 115')\n",
    "add_answer(round(data['runtime'].median()))"
   ]
  },
  {
   "cell_type": "markdown",
   "metadata": {},
   "source": [
    "# 6. Какой самый прибыльный фильм?\n",
    "Варианты ответов:\n",
    "1. The Avengers\ttt0848228\n",
    "2. Minions\ttt2293640\n",
    "3. Star Wars: The Force Awakens\ttt2488496\n",
    "4. Furious 7\ttt2820852\n",
    "5. Avatar\ttt0499549"
   ]
  },
  {
   "cell_type": "code",
   "execution_count": 10,
   "metadata": {},
   "outputs": [
    {
     "name": "stdout",
     "output_type": "stream",
     "text": [
      "Avatar\n",
      "5. Avatar\n"
     ]
    }
   ],
   "source": [
    "data['profit'] = data['revenue']-data['budget']\n",
    "\n",
    "top_5 = ('1. The Avengers\ttt0848228'\n",
    "'2. Minions\ttt2293640'\n",
    "'3. Star Wars: The Force Awakens\ttt2488496'\n",
    "'4. Furious 7\ttt2820852'\n",
    "'5. Avatar\ttt0499549')\n",
    "\n",
    "print(pick_one('profit', data, worst=False))\n",
    "add_answer(pick_one('profit', from_top(), worst=False))"
   ]
  },
  {
   "cell_type": "markdown",
   "metadata": {},
   "source": [
    "# 7. Какой фильм самый убыточный?\n",
    "Варианты ответов:\n",
    "1. Supernova tt0134983\n",
    "2. The Warrior's Way tt1032751\n",
    "3. Flushed Away\ttt0424095\n",
    "4. The Adventures of Pluto Nash\ttt0180052\n",
    "5. The Lone Ranger\ttt1210819"
   ]
  },
  {
   "cell_type": "code",
   "execution_count": 11,
   "metadata": {},
   "outputs": [
    {
     "name": "stdout",
     "output_type": "stream",
     "text": [
      "The Warrior's Way\n",
      "2. The Warrior's Way\n"
     ]
    }
   ],
   "source": [
    "top_5 = ('1. Supernova tt0134983'\n",
    "'2. The Warrior\\'s Way tt1032751'\n",
    "'3. Flushed Away\ttt0424095'\n",
    "'4. The Adventures of Pluto Nash\ttt0180052'\n",
    "'5. The Lone Ranger\ttt1210819')\n",
    "\n",
    "\n",
    "#проверка на profit < 0 - это решение в общем виде. Тут-то у нас в датасете хватает убыточных фильмов \n",
    "#, а в общем случае убыточного фильма может и не быть. Но в дальнейшем коде опустим этот момент компактности ради.\n",
    "print(pick_one('profit', data.query('profit<0'), worst=True))\n",
    "add_answer(pick_one('profit', from_top(), worst=True))"
   ]
  },
  {
   "cell_type": "markdown",
   "metadata": {},
   "source": [
    "# 8. Сколько всего фильмов в прибыли?\n",
    "Варианты ответов:\n",
    "1. 1478\n",
    "2. 1520\n",
    "3. 1241\n",
    "4. 1135\n",
    "5. 1398\n"
   ]
  },
  {
   "cell_type": "code",
   "execution_count": 12,
   "metadata": {},
   "outputs": [
    {
     "name": "stdout",
     "output_type": "stream",
     "text": [
      "1. 1478\n"
     ]
    }
   ],
   "source": [
    "top_5 = ('1. 1478 2. 1520 3. 1241 4. 1135 5. 1398')\n",
    "add_answer(len(data.query('profit >0')))\n"
   ]
  },
  {
   "cell_type": "markdown",
   "metadata": {},
   "source": [
    "# 9. Самый прибыльный фильм в 2008 году?\n",
    "Варианты ответов:\n",
    "1. Madagascar: Escape 2 Africa\ttt0479952\n",
    "2. Iron Man\ttt0371746\n",
    "3. Kung Fu Panda\ttt0441773\n",
    "4. The Dark Knight\ttt0468569\n",
    "5. Mamma Mia!\ttt0795421"
   ]
  },
  {
   "cell_type": "code",
   "execution_count": 13,
   "metadata": {},
   "outputs": [
    {
     "name": "stdout",
     "output_type": "stream",
     "text": [
      "The Dark Knight\n",
      "4. The Dark Knight\n"
     ]
    }
   ],
   "source": [
    "top_5 = ('1. Madagascar: Escape 2 Africa\ttt0479952'\n",
    "'2. Iron Man\ttt0371746'\n",
    "'3. Kung Fu Panda\ttt0441773'\n",
    "'4. The Dark Knight\ttt0468569'\n",
    "'5. Mamma Mia!\ttt0795421')\n",
    "\n",
    "\n",
    "\n",
    "print(pick_one('revenue', data.query('release_year == 2008'), worst=False))\n",
    "add_answer(pick_one('profit', data.query('release_year == 2008'), worst=False))"
   ]
  },
  {
   "cell_type": "markdown",
   "metadata": {},
   "source": [
    "# 10. Самый убыточный фильм за период с 2012 по 2014 (включительно)?\n",
    "Варианты ответов:\n",
    "1. Winter's Tale\ttt1837709\n",
    "2. Stolen\ttt1656186\n",
    "3. Broken City\ttt1235522\n",
    "4. Upside Down\ttt1374992\n",
    "5. The Lone Ranger\ttt1210819\n"
   ]
  },
  {
   "cell_type": "code",
   "execution_count": 14,
   "metadata": {},
   "outputs": [
    {
     "name": "stdout",
     "output_type": "stream",
     "text": [
      "5. The Lone Ranger\n"
     ]
    }
   ],
   "source": [
    "top_5 = ('1. Winter\\'s Tale\ttt1837709'\n",
    "'2. Stolen\ttt1656186'\n",
    "'3. Broken City\ttt1235522'\n",
    "'4. Upside Down\ttt1374992'\n",
    "'5. The Lone Ranger\ttt1210819')\n",
    "\n",
    "add_answer(pick_one('profit', data.query('(release_year >= 2012) and (release_year <=2014)'), worst=True))"
   ]
  },
  {
   "cell_type": "markdown",
   "metadata": {},
   "source": [
    "# 11. Какого жанра фильмов больше всего?\n",
    "Варианты ответов:\n",
    "1. Action\n",
    "2. Adventure\n",
    "3. Drama\n",
    "4. Comedy\n",
    "5. Thriller"
   ]
  },
  {
   "cell_type": "code",
   "execution_count": 15,
   "metadata": {},
   "outputs": [
    {
     "name": "stdout",
     "output_type": "stream",
     "text": [
      "3. Drama\n"
     ]
    }
   ],
   "source": [
    "top_5 = ('1. Action 2. Adventure 3. Drama 4. Comedy 5. Thriller')\n",
    "\n",
    "\n",
    "#можно и так: Counter(data.genres.str.split('|').sum()).most_common(1)[0][0]\n",
    "add_answer(pd.Series(data.genres.str.split('|').sum()).value_counts().index[0])\n"
   ]
  },
  {
   "cell_type": "markdown",
   "metadata": {},
   "source": [
    "# 12. Какого жанра среди прибыльных фильмов больше всего?\n",
    "Варианты ответов:\n",
    "1. Drama\n",
    "2. Comedy\n",
    "3. Action\n",
    "4. Thriller\n",
    "5. Adventure"
   ]
  },
  {
   "cell_type": "code",
   "execution_count": 16,
   "metadata": {},
   "outputs": [
    {
     "name": "stdout",
     "output_type": "stream",
     "text": [
      "1. Drama\n"
     ]
    }
   ],
   "source": [
    "top_5 = ('1. Drama 2. Comedy 3. Action 4. Thriller 5. Adventure')\n",
    "\n",
    "genres = data.query('profit > 0')['genres'].str.split('|').sum()\n",
    "add_answer(pd.Series(genres).value_counts().index[0])\n"
   ]
  },
  {
   "cell_type": "markdown",
   "metadata": {},
   "source": [
    "# 13. Кто из режиссеров снял больше всего фильмов?\n",
    "Варианты ответов:\n",
    "1. Steven Spielberg\n",
    "2. Ridley Scott \n",
    "3. Steven Soderbergh\n",
    "4. Christopher Nolan\n",
    "5. Clint Eastwood"
   ]
  },
  {
   "cell_type": "code",
   "execution_count": 17,
   "metadata": {},
   "outputs": [
    {
     "name": "stdout",
     "output_type": "stream",
     "text": [
      "3. Steven Soderbergh\n"
     ]
    }
   ],
   "source": [
    "top_5 = ('1. Steven Spielberg'\n",
    "'2. Ridley Scott '\n",
    "'3. Steven Soderbergh'\n",
    "'4. Christopher Nolan'\n",
    "'5. Clint Eastwood')\n",
    "\n",
    "answer = Counter(data.director.str.split('|').sum()).most_common()[0][0]\n",
    "add_answer(answer)"
   ]
  },
  {
   "cell_type": "markdown",
   "metadata": {},
   "source": [
    "# 14. Кто из режиссеров снял больше всего Прибыльных фильмов?\n",
    "Варианты ответов:\n",
    "1. Steven Soderbergh\n",
    "2. Clint Eastwood\n",
    "3. Steven Spielberg\n",
    "4. Ridley Scott\n",
    "5. Christopher Nolan"
   ]
  },
  {
   "cell_type": "code",
   "execution_count": 18,
   "metadata": {},
   "outputs": [
    {
     "name": "stdout",
     "output_type": "stream",
     "text": [
      "4. Ridley Scott\n"
     ]
    }
   ],
   "source": [
    "top_5 = ('1. Steven Soderbergh'\n",
    "'2. Clint Eastwood'\n",
    "'3. Steven Spielberg'\n",
    "'4. Ridley Scott'\n",
    "'5. Christopher Nolan')\n",
    "\n",
    "\n",
    "sub_data = data.query('profit > 0')\n",
    "answer = Counter(sub_data.director.str.split('|').sum()).most_common()[0][0]\n",
    "add_answer(answer)"
   ]
  },
  {
   "cell_type": "markdown",
   "metadata": {},
   "source": [
    "# 15. Кто из режиссеров принес больше всего прибыли?\n",
    "Варианты ответов:\n",
    "1. Steven Spielberg\n",
    "2. Christopher Nolan\n",
    "3. David Yates\n",
    "4. James Cameron\n",
    "5. Peter Jackson\n"
   ]
  },
  {
   "cell_type": "code",
   "execution_count": 19,
   "metadata": {},
   "outputs": [
    {
     "name": "stdout",
     "output_type": "stream",
     "text": [
      "5. Peter Jackson\n"
     ]
    }
   ],
   "source": [
    "top_5 = ('1. Steven Spielberg'\n",
    "'2. Christopher Nolan'\n",
    "'3. David Yates'\n",
    "'4. James Cameron'\n",
    "'5. Peter Jackson')\n",
    "\n",
    "#функкция \"расклейки\" значений в ячейке по отдельным строкам \n",
    "# задаем: что расклеиваем, что берем ключевым параметром для дальнейшей работы и на каком датасете\n",
    "def split_glued (value, metric, df=data):\n",
    "    splitted = pd.DataFrame(df[value].str.split('|').to_list(), index=df[metric]).stack().reset_index()\n",
    "    splitted.columns = splitted.columns[:-1].to_list()+[value]\n",
    "    return splitted\n",
    "\n",
    "#а это для лакончиности записи функция дающая ответ на основе сводной таблицы, созданной на \"расклеенных\" данных\n",
    "def split_value(value, metric, df=data, worst=False, agg='sum'):\n",
    "    splitted = split_glued(value, metric, df)\n",
    "    if worst: \n",
    "        return splitted.pivot_table(index=value, values=metric, aggfunc=agg)[metric].idxmin()\n",
    "    else: \n",
    "        return splitted.pivot_table(index=value, values=metric, aggfunc=agg)[metric].idxmax()\n",
    "\n",
    "\n",
    "add_answer(split_value('director','profit'))"
   ]
  },
  {
   "cell_type": "markdown",
   "metadata": {},
   "source": [
    "# 16. Какой актер принес больше всего прибыли?\n",
    "Варианты ответов:\n",
    "1. Emma Watson\n",
    "2. Johnny Depp\n",
    "3. Michelle Rodriguez\n",
    "4. Orlando Bloom\n",
    "5. Rupert Grint"
   ]
  },
  {
   "cell_type": "code",
   "execution_count": 20,
   "metadata": {},
   "outputs": [
    {
     "name": "stdout",
     "output_type": "stream",
     "text": [
      "1. Emma Watson\n"
     ]
    }
   ],
   "source": [
    "top_5 = ('1. Emma Watson'\n",
    "'2. Johnny Depp'\n",
    "'3. Michelle Rodriguez'\n",
    "'4. Orlando Bloom'\n",
    "'5. Rupert Grint')\n",
    "\n",
    "add_answer(split_value('cast','profit'))"
   ]
  },
  {
   "cell_type": "markdown",
   "metadata": {},
   "source": [
    "# 17. Какой актер принес меньше всего прибыли в 2012 году?\n",
    "Варианты ответов:\n",
    "1. Nicolas Cage\n",
    "2. Danny Huston\n",
    "3. Kirsten Dunst\n",
    "4. Jim Sturgess\n",
    "5. Sami Gayle"
   ]
  },
  {
   "cell_type": "code",
   "execution_count": 21,
   "metadata": {},
   "outputs": [
    {
     "name": "stdout",
     "output_type": "stream",
     "text": [
      "3. Kirsten Dunst\n"
     ]
    }
   ],
   "source": [
    "top_5 = ('1. Nicolas Cage'\n",
    "'2. Danny Huston'\n",
    "'3. Kirsten Dunst'\n",
    "'4. Jim Sturgess'\n",
    "'5. Sami Gayle')\n",
    "\n",
    "add_answer(split_value('cast','profit', df=data.query('release_year == 2012'), worst=True))\n"
   ]
  },
  {
   "cell_type": "markdown",
   "metadata": {},
   "source": [
    "# 18. Какой актер снялся в большем количестве высокобюджетных фильмов? (в фильмах где бюджет выше среднего по данной выборке)\n",
    "Варианты ответов:\n",
    "1. Tom Cruise\n",
    "2. Mark Wahlberg \n",
    "3. Matt Damon\n",
    "4. Angelina Jolie\n",
    "5. Adam Sandler"
   ]
  },
  {
   "cell_type": "code",
   "execution_count": 22,
   "metadata": {},
   "outputs": [
    {
     "name": "stdout",
     "output_type": "stream",
     "text": [
      "3. Matt Damon\n"
     ]
    }
   ],
   "source": [
    "top_5 = ('1. Tom Cruise'\n",
    "'2. Mark Wahlberg'\n",
    "'3. Matt Damon'\n",
    "'4. Angelina Jolie'\n",
    "'5. Adam Sandler')\n",
    "\n",
    "sub_data = data.query('budget > budget.mean()')\n",
    "answer = Counter(sub_data.cast.str.split('|').sum()).most_common()[0][0]\n",
    "add_answer(answer)\n"
   ]
  },
  {
   "cell_type": "markdown",
   "metadata": {},
   "source": [
    "# 19. В фильмах какого жанра больше всего снимался Nicolas Cage?  \n",
    "Варианты ответа:\n",
    "1. Drama\n",
    "2. Action\n",
    "3. Thriller\n",
    "4. Adventure\n",
    "5. Crime"
   ]
  },
  {
   "cell_type": "code",
   "execution_count": 23,
   "metadata": {},
   "outputs": [
    {
     "name": "stdout",
     "output_type": "stream",
     "text": [
      "2. Action\n"
     ]
    }
   ],
   "source": [
    "top_5 = ('1. Drama'\n",
    "'2. Action'\n",
    "'3. Thriller'\n",
    "'4. Adventure'\n",
    "'5. Crime')\n",
    "\n",
    "\n",
    "genres = data[data.cast.str.contains('Nicolas Cage')]['genres'].str.split('|').sum()\n",
    "answer = pd.Series(genres).value_counts().index[0]\n",
    "add_answer(answer)"
   ]
  },
  {
   "cell_type": "markdown",
   "metadata": {},
   "source": [
    "# 20. Какая студия сняла больше всего фильмов?\n",
    "Варианты ответа:\n",
    "1. Universal Pictures (Universal)\n",
    "2. Paramount Pictures\n",
    "3. Columbia Pictures\n",
    "4. Warner Bros\n",
    "5. Twentieth Century Fox Film Corporation"
   ]
  },
  {
   "cell_type": "code",
   "execution_count": 24,
   "metadata": {},
   "outputs": [
    {
     "data": {
      "text/plain": [
       "array(['Walt Disney Pictures', 'Walt Disney Studios Motion Pictures',\n",
       "       'Walt Disney Animation Studios', 'Walt Disney',\n",
       "       'Walt Disney Feature Animation',\n",
       "       'Walt Disney Television Animation',\n",
       "       'Walt Disney Animation Australia', 'Walt Disney Animation Canada'],\n",
       "      dtype=object)"
      ]
     },
     "metadata": {},
     "output_type": "display_data"
    }
   ],
   "source": [
    "# это код исключительно для того, чтобы копипастить с вывода списки студий под \"зонтиком\" главного бренда\n",
    "# меняя по очереди \"зонтик\"\n",
    "df = pd.Series(data.production_companies.str.split('|').sum())\n",
    "display(df[df.str.contains('Walt')].unique())\n"
   ]
  },
  {
   "cell_type": "code",
   "execution_count": 25,
   "metadata": {},
   "outputs": [
    {
     "data": {
      "text/plain": [
       "(6079, 6079)"
      ]
     },
     "execution_count": 25,
     "metadata": {},
     "output_type": "execute_result"
    }
   ],
   "source": [
    "# создаем правило принадлежности студий одному и тому же \"зонтику\"\n",
    "\n",
    "studios_dict = {\n",
    "    'Universal Pictures':['Universal Pictures',  'Universal Animation Studios','Universal Cartoon Studios' ,\n",
    "'Universal CGI',  'Universal Pictures International (UPI)',\n",
    "        'Universal Pictures Corporation','Universal Studios',\n",
    "       'Universal'  ],\n",
    "    'Warner Bros': ['Warner Bros.', 'Warner Bros. Animation',\n",
    "        'Warner Bros. Pictures'#, 'Warner Independent Pictures (WIP)'\n",
    "       ], \n",
    "    'Columbia Pictures' : ['Columbia Pictures', 'Columbia TriStar', \n",
    "       'Columbia Pictures Corporation'], \n",
    "    'Twentieth Century Fox Film Corporation' : ['Twentieth Century Fox Film Corporation',  \n",
    "          '20th Century Fox', 'Twentieth Century Fox'], \n",
    "    'Paramount Pictures': ['Paramount Pictures', 'Paramount Vantage', 'Paramount Animation',\n",
    "       'Paramount Classics'],\n",
    "    'Walt Disney' :['Walt Disney Pictures', \n",
    "       'Walt Disney Animation Studios', 'Walt Disney',\n",
    "       'Walt Disney Feature Animation'] \n",
    "     \n",
    "}\n",
    "\n",
    "#замена студий на зонтики по правилу\n",
    "def umbrella(x):\n",
    "    names = x.split('|')\n",
    "    for i in range(len(names)):\n",
    "        for studio in studios_dict:\n",
    "            if names[i] in studios_dict[studio]:\n",
    "                names[i]=studio\n",
    "     \n",
    "    return names \n",
    "\n",
    "#один раз для неоднократного использования создаем датасет, разнесенный по отдельным зонтикам и \"незонтичным\" студиям\n",
    "#сначала база\n",
    "split_data = data.loc[:,['imdb_id', 'production_companies']]\n",
    "#потом зонтики\n",
    "split_data['umbrellas'] = split_data.production_companies.apply(umbrella)\n",
    "# разделяем базоу\n",
    "split_data = pd.DataFrame(split_data.umbrellas.to_list(), index=split_data.imdb_id).stack().reset_index()\n",
    "# удаляем строительный мусор и наводим порядок\n",
    "split_data = split_data.drop(columns=split_data.columns[1]).rename({0:'umbrella'}, axis='columns')\n",
    "#объединяем с исходным датасетом\n",
    "split_data = split_data.merge(data, on='imdb_id')\n",
    "#легкий чек - просто разбиение по компаниям дает такое же количество, ничего не потеряли, ничего лишнего не накрутили\n",
    "len(split_data), len(split_glued('production_companies', 'imdb_id'))"
   ]
  },
  {
   "cell_type": "code",
   "execution_count": 26,
   "metadata": {},
   "outputs": [
    {
     "name": "stdout",
     "output_type": "stream",
     "text": [
      "1. Universal Pictures\n"
     ]
    },
    {
     "data": {
      "text/plain": [
       "[('Universal Pictures', 187), ('Warner Bros', 186), ('Columbia Pictures', 166)]"
      ]
     },
     "execution_count": 26,
     "metadata": {},
     "output_type": "execute_result"
    }
   ],
   "source": [
    "top_5=('1. Universal Pictures (Universal)'\n",
    "'2. Paramount Pictures'\n",
    "'3. Columbia Pictures'\n",
    "'4. Warner Bros'\n",
    "'5. Twentieth Century Fox Film Corporation')\n",
    "\n",
    "\n",
    "answer = Counter(split_data.umbrella).most_common()[0][0]\n",
    "add_answer(answer)\n",
    "Counter(split_data.umbrella).most_common(3)"
   ]
  },
  {
   "cell_type": "markdown",
   "metadata": {},
   "source": [
    "# 21. Какая студия сняла больше всего фильмов в 2015 году?\n",
    "Варианты ответа:\n",
    "1. Universal Pictures\n",
    "2. Paramount Pictures\n",
    "3. Columbia Pictures\n",
    "4. Warner Bros\n",
    "5. Twentieth Century Fox Film Corporation"
   ]
  },
  {
   "cell_type": "code",
   "execution_count": 27,
   "metadata": {},
   "outputs": [
    {
     "name": "stdout",
     "output_type": "stream",
     "text": [
      "4. Warner Bros\n"
     ]
    }
   ],
   "source": [
    "top_5=('1. Universal Pictures'\n",
    "'2. Paramount Pictures'\n",
    "'3. Columbia Pictures'\n",
    "'4. Warner Bros'\n",
    "'5. Twentieth Century Fox Film Corporation')\n",
    "\n",
    "sub_data=split_data.query('release_year == 2015')\n",
    "answer= sub_data.umbrella.value_counts().index[0]\n",
    "add_answer(answer)\n"
   ]
  },
  {
   "cell_type": "markdown",
   "metadata": {},
   "source": [
    "# 22. Какая студия заработала больше всего денег в жанре комедий за все время?\n",
    "Варианты ответа:\n",
    "1. Warner Bros\n",
    "2. Universal Pictures (Universal)\n",
    "3. Columbia Pictures\n",
    "4. Paramount Pictures\n",
    "5. Walt Disney"
   ]
  },
  {
   "cell_type": "code",
   "execution_count": 28,
   "metadata": {},
   "outputs": [
    {
     "name": "stdout",
     "output_type": "stream",
     "text": [
      "2. Universal Pictures\n"
     ]
    }
   ],
   "source": [
    "top_5=('1. Warner Bros'\n",
    "'2. Universal Pictures (Universal)'\n",
    "'3. Columbia Pictures'\n",
    "'4. Paramount Pictures'\n",
    "'5. Walt Disney')\n",
    "\n",
    "sub_data = split_data[split_data.genres.str.contains('Comedy')]\n",
    "answer=sub_data.pivot_table(index='umbrella', values='profit', aggfunc='sum').profit.idxmax()\n",
    "add_answer(answer)"
   ]
  },
  {
   "cell_type": "markdown",
   "metadata": {},
   "source": [
    "# 23. Какая студия заработала больше всего денег в 2012 году?\n",
    "Варианты ответа:\n",
    "1. Universal Pictures (Universal)\n",
    "2. Warner Bros\n",
    "3. Columbia Pictures\n",
    "4. Paramount Pictures\n",
    "5. Lucasfilm"
   ]
  },
  {
   "cell_type": "code",
   "execution_count": 29,
   "metadata": {},
   "outputs": [
    {
     "name": "stdout",
     "output_type": "stream",
     "text": [
      "3. Columbia Pictures\n"
     ]
    }
   ],
   "source": [
    "top_5 = ('1. Universal Pictures'\n",
    "'2. Warner Bros.'\n",
    "'3. Columbia Pictures'\n",
    "'4. Paramount Pictures'\n",
    "'5. Lucasfilm')\n",
    "\n",
    "sub_data = split_data.query('release_year == 2012') \n",
    "answer=sub_data.pivot_table(index='umbrella', values='profit', aggfunc='sum').profit.idxmax()\n",
    "add_answer(answer)"
   ]
  },
  {
   "cell_type": "markdown",
   "metadata": {},
   "source": [
    "# 24. Самый убыточный фильм от Paramount Pictures\n",
    "Варианты ответа:\n",
    "\n",
    "1. K-19: The Widowmaker tt0267626\n",
    "2. Next tt0435705\n",
    "3. Twisted tt0315297\n",
    "4. The Love Guru tt0811138\n",
    "5. The Fighter tt0964517"
   ]
  },
  {
   "cell_type": "code",
   "execution_count": 30,
   "metadata": {},
   "outputs": [
    {
     "name": "stdout",
     "output_type": "stream",
     "text": [
      "1. K-19: The Widowmaker\n"
     ]
    }
   ],
   "source": [
    "top_5 = ('1. K-19: The Widowmaker tt0267626'\n",
    "'2. Next tt0435705'\n",
    "'3. Twisted tt0315297'\n",
    "'4. The Love Guru tt0811138'\n",
    "'5. The Fighter tt0964517')\n",
    "\n",
    "answer = split_data.iloc[split_data.query('umbrella == \"Paramount Pictures\"').profit.idxmin()]['original_title']\n",
    "add_answer(answer)"
   ]
  },
  {
   "cell_type": "markdown",
   "metadata": {},
   "source": [
    "# 25. Какой Самый прибыльный год (заработали больше всего)?\n",
    "Варианты ответа:\n",
    "1. 2014\n",
    "2. 2008\n",
    "3. 2012\n",
    "4. 2002\n",
    "5. 2015"
   ]
  },
  {
   "cell_type": "code",
   "execution_count": 31,
   "metadata": {},
   "outputs": [
    {
     "name": "stdout",
     "output_type": "stream",
     "text": [
      "5. 2015\n"
     ]
    }
   ],
   "source": [
    "top_5 = ('1. 2014 2. 2008 3. 2012 4. 2002 5. 2015')\n",
    "\n",
    "answer=data.pivot_table(index='release_year', values='profit', aggfunc='sum')['profit'].idxmax()\n",
    "add_answer(answer)"
   ]
  },
  {
   "cell_type": "markdown",
   "metadata": {},
   "source": [
    "# 26. Какой Самый прибыльный год для студии Warner Bros?\n",
    "Варианты ответа:\n",
    "1. 2014\n",
    "2. 2008\n",
    "3. 2012\n",
    "4. 2010\n",
    "5. 2015\n",
    "\n",
    "единственный вариант"
   ]
  },
  {
   "cell_type": "code",
   "execution_count": 32,
   "metadata": {},
   "outputs": [
    {
     "name": "stdout",
     "output_type": "stream",
     "text": [
      "1. 2014\n"
     ]
    }
   ],
   "source": [
    "top_5=('1. 2014 2. 2008 3. 2012 4. 2010 5. 2015')\n",
    "\n",
    "sub_data = split_data.query('umbrella == \"Warner Bros\"')\n",
    "answer=sub_data.pivot_table(index='release_year', values='profit', aggfunc='sum').profit.idxmax()\n",
    "add_answer(answer)\n"
   ]
  },
  {
   "cell_type": "markdown",
   "metadata": {},
   "source": [
    "# 27. В каком месяце за все годы суммарно вышло больше всего фильмов?\n",
    "Варианты ответа:\n",
    "1. Январь\n",
    "2. Июнь\n",
    "3. Декабрь\n",
    "4. Сентябрь\n",
    "5. Май"
   ]
  },
  {
   "cell_type": "code",
   "execution_count": 33,
   "metadata": {},
   "outputs": [
    {
     "name": "stdout",
     "output_type": "stream",
     "text": [
      "4. Сентябрь\n"
     ]
    }
   ],
   "source": [
    "#весь этот блок исключительно ради автоматизации вывода результата\n",
    "#ну и ради тренировки в работе с форматами дат\n",
    "import locale\n",
    "data.release_date = pd.to_datetime(data.release_date, format='%m/%d/%Y' )\n",
    "loc=locale.getlocale()\n",
    "locale.setlocale(locale.LC_ALL, ('RU','UTF8'))\n",
    "data['release_month']=data['release_date'].dt.strftime('%B')\n",
    "locale.setlocale(locale.LC_ALL, loc)\n",
    "\n",
    "\n",
    "top_5 = ('1. Январь'\n",
    "'2. Июнь'\n",
    "'3. Декабрь'\n",
    "'4. Сентябрь'\n",
    "'5. Май')\n",
    "\n",
    "answer=data.pivot_table(index='release_month', values='imdb_id', aggfunc='count')['imdb_id'].idxmax()\n",
    "        \n",
    "add_answer(answer)\n"
   ]
  },
  {
   "cell_type": "markdown",
   "metadata": {},
   "source": [
    "# 28. Сколько суммарно вышло фильмов летом? (за июнь, июль, август)\n",
    "Варианты ответа:\n",
    "1. 345\n",
    "2. 450\n",
    "3. 478\n",
    "4. 523\n",
    "5. 381"
   ]
  },
  {
   "cell_type": "code",
   "execution_count": 34,
   "metadata": {},
   "outputs": [
    {
     "name": "stdout",
     "output_type": "stream",
     "text": [
      "2. 450\n"
     ]
    }
   ],
   "source": [
    "top_5 = ('1. 345 2. 450 3. 478 4. 523 5. 381')\n",
    "\n",
    "answer = len(data[data.release_date.dt.month.isin((6,7,8))])\n",
    "add_answer(answer)\n"
   ]
  },
  {
   "cell_type": "markdown",
   "metadata": {},
   "source": [
    "# 29. Какой режисер выпускает (суммарно по годам) больше всего фильмов зимой?\n",
    "Варианты ответов:\n",
    "1. Steven Soderbergh\n",
    "2. Christopher Nolan\n",
    "3. Clint Eastwood\n",
    "4. Ridley Scott\n",
    "5. Peter Jackson"
   ]
  },
  {
   "cell_type": "code",
   "execution_count": 35,
   "metadata": {},
   "outputs": [
    {
     "name": "stdout",
     "output_type": "stream",
     "text": [
      "5. Peter Jackson\n"
     ]
    }
   ],
   "source": [
    "top_5 = ('1. Steven Soderbergh'\n",
    "'2. Christopher Nolan'\n",
    "'3. Clint Eastwood'\n",
    "'4. Ridley Scott'\n",
    "'5. Peter Jackson')\n",
    "\n",
    "\n",
    "sub_data = data[data.release_date.dt.month.isin((12,1,2))]\n",
    "\n",
    "answer = Counter(sub_data.director.str.split('|').sum()).most_common()[0][0]\n",
    "add_answer(answer)"
   ]
  },
  {
   "cell_type": "markdown",
   "metadata": {},
   "source": [
    "# 30. Какой месяц чаще всего по годам самый прибыльный?\n",
    "Варианты ответа:\n",
    "1. Январь\n",
    "2. Июнь\n",
    "3. Декабрь\n",
    "4. Сентябрь\n",
    "5. Май"
   ]
  },
  {
   "cell_type": "code",
   "execution_count": 36,
   "metadata": {},
   "outputs": [
    {
     "name": "stdout",
     "output_type": "stream",
     "text": [
      "2. Июнь\n"
     ]
    }
   ],
   "source": [
    "top_5 = ('1. Январь 2. Июнь 3. Декабрь 4. Сентябрь 5. Май')\n",
    "\n",
    "by_yr_mth = data.pivot_table(index='release_year', values='profit', columns='release_month' ,aggfunc='sum')\n",
    "answer = by_yr_mth.apply(lambda row: row.idxmax(), axis=1).value_counts().index[0]\n",
    "add_answer(answer)"
   ]
  },
  {
   "cell_type": "markdown",
   "metadata": {},
   "source": [
    "# 31. Названия фильмов какой студии в среднем самые длинные по количеству символов?\n",
    "Варианты ответа:\n",
    "1. Universal Pictures (Universal)\n",
    "2. Warner Bros.\n",
    "3. Jim Henson Company, The\n",
    "4. Paramount Pictures\n",
    "5. Four By Two Productions"
   ]
  },
  {
   "cell_type": "code",
   "execution_count": 37,
   "metadata": {},
   "outputs": [
    {
     "name": "stdout",
     "output_type": "stream",
     "text": [
      "5. Four By Two Productions\n"
     ]
    }
   ],
   "source": [
    "top_5 = ('1. Universal Pictures (Universal)'\n",
    "'2. Warner Bros'\n",
    "'3. Jim Henson Company, The'\n",
    "'4. Paramount Pictures'\n",
    "'5. Four By Two Productions')\n",
    "\n",
    "\n",
    "split_data['title_len'] = split_data['original_title'].str.len()\n",
    "answer=split_data.pivot_table(index='umbrella', values='title_len', aggfunc='mean').title_len.idxmax()\n",
    "add_answer(answer)"
   ]
  },
  {
   "cell_type": "markdown",
   "metadata": {},
   "source": [
    "# 32. Названия фильмов какой студии в среднем самые длинные по количеству слов?\n",
    "Варианты ответа:\n",
    "1. Universal Pictures (Universal)\n",
    "2. Warner Bros\n",
    "3. Jim Henson Company, The\n",
    "4. Paramount Pictures\n",
    "5. Four By Two Productions"
   ]
  },
  {
   "cell_type": "code",
   "execution_count": 38,
   "metadata": {},
   "outputs": [
    {
     "name": "stdout",
     "output_type": "stream",
     "text": [
      "5. Four By Two Productions\n"
     ]
    }
   ],
   "source": [
    "top_5 = ('1. Universal Pictures (Universal)'\n",
    "'2. Warner Bros'\n",
    "'3. Jim Henson Company, The'\n",
    "'4. Paramount Pictures'\n",
    "'5. Four By Two Productions')\n",
    "\n",
    "\n",
    "\n",
    "#интересный вопрос, что считать словом, но поскольку мы можем выполнять задания в любом порядке,\n",
    "#воспользуемся опытом задания 33, считая словами все, что меж пробелов, т.е. чем больше пробелов, тем больше слов\n",
    "\n",
    "split_data['title_len'] = split_data['original_title'].str.count(' ')\n",
    "answer=split_data.pivot_table(index='umbrella', values='title_len', aggfunc='mean').title_len.idxmax()\n",
    "add_answer(answer)"
   ]
  },
  {
   "cell_type": "markdown",
   "metadata": {},
   "source": [
    "# 33. Сколько разных слов используется в названиях фильмов?(без учета регистра)\n",
    "Варианты ответа:\n",
    "1. 6540\n",
    "2. 1002\n",
    "3. 2461\n",
    "4. 28304\n",
    "5. 3432"
   ]
  },
  {
   "cell_type": "code",
   "execution_count": 39,
   "metadata": {},
   "outputs": [
    {
     "name": "stdout",
     "output_type": "stream",
     "text": [
      "3. 2461\n"
     ]
    }
   ],
   "source": [
    "top_5=('1. 6540'\n",
    "'2. 1002'\n",
    "'3. 2461'\n",
    "'4. 28304'\n",
    "'5. 3432')\n",
    "\n",
    "#начинаем с самой грубой фильтрации\n",
    "answer=len(set(data['original_title'].str.lower().str.split().sum()))\n",
    "\n",
    "#и, о чудо, она сразу же дает попадание в один из ответов \n",
    "#вероятность случайного соовпадения мизерная, будем считать, что это и есть руководящий принцип\n",
    "#кроме того, даже самый жесткий фильтр сузить до 1002 не даст, \n",
    "#да и разбиением слов через дефис поднять их количество до 3432 не полуится\n",
    "add_answer(answer)\n"
   ]
  },
  {
   "cell_type": "markdown",
   "metadata": {},
   "source": [
    "# 34. Какие фильмы входят в 1 процент лучших по рейтингу?\n",
    "Варианты ответа:\n",
    "1. Inside Out, Gone Girl, 12 Years a Slave\n",
    "2. BloodRayne, The Adventures of Rocky & Bullwinkle\n",
    "3. The Lord of the Rings: The Return of the King\n",
    "4. 300, Lucky Number Slevin"
   ]
  },
  {
   "cell_type": "code",
   "execution_count": 40,
   "metadata": {},
   "outputs": [
    {
     "name": "stdout",
     "output_type": "stream",
     "text": [
      "1. Inside Out, Gone Girl, 12 Years a Slave\n"
     ]
    }
   ],
   "source": [
    "#поправлю варианты ответа, чтобы было похоже на то, что на платформе\n",
    "top_5=('1. Inside Out, Gone Girl, 12 Years a Slave'\n",
    "'2. BloodRayne, The Adventures of Rocky & Bullwinkle'\n",
    "'3. The Lord of the Rings: The Return of the King, Upside Down'\n",
    "'4. 300, Lucky Number Slevin')\n",
    "\n",
    "movies=re.split('\\d\\. ', top_5)[1:]\n",
    "\n",
    "\n",
    "best_percent = data.sort_values(by='vote_average', ascending=False)['original_title'].to_list()[:19]\n",
    "for movie in movies:\n",
    "    if all([ x in best_percent for x in movie.split(', ')]):\n",
    "           add_answer(movie)\n",
    "\n"
   ]
  },
  {
   "cell_type": "markdown",
   "metadata": {},
   "source": [
    "# 35. Какие актеры чаще всего снимаются в одном фильме вместе\n",
    "Варианты ответа:\n",
    "1. Johnny Depp & Helena Bonham Carter\n",
    "2. Hugh Jackman & Ian McKellen\n",
    "3. Vin Diesel & Paul Walker\n",
    "4. Adam Sandler & Kevin James\n",
    "5. Daniel Radcliffe & Rupert Grint"
   ]
  },
  {
   "cell_type": "code",
   "execution_count": 41,
   "metadata": {},
   "outputs": [
    {
     "name": "stdout",
     "output_type": "stream",
     "text": [
      "5. Daniel Radcliffe & Rupert Grint\n"
     ]
    }
   ],
   "source": [
    "top_5=('1. Johnny Depp & Helena Bonham Carter'\n",
    "'2. Hugh Jackman & Ian McKellen'\n",
    "'3. Vin Diesel & Paul Walker'\n",
    "'4. Adam Sandler & Kevin James'\n",
    "'5. Daniel Radcliffe & Rupert Grint')\n",
    "\n",
    "#извлечем все, существующие в составах пары актеров\n",
    "all_existing_pairs=data['cast'].apply(lambda x: list(itertools.combinations(x.split('|'),2))).sum()\n",
    "\n",
    "#на случай, если есть также победитель не из списка или получится, что пара сформирована \"зеркально\"\n",
    "#хотя конкертно на этих данных сработал бы и простой вариант\n",
    "for pair, n in Counter(all_existing_pairs).most_common():\n",
    "    if ' & '.join(pair) in top_5: \n",
    "        add_answer(' & '.join(pair))\n",
    "        break           \n",
    "    if ' & '.join(pair[::-1]) in top_5:\n",
    "        add_answer(' & '.join(pair[::-1]))\n",
    "        break "
   ]
  },
  {
   "cell_type": "markdown",
   "metadata": {},
   "source": [
    "# 36. У какого из режиссеров выше вероятность выпустить фильм в прибыли? (5 баллов)\n",
    "Варианты ответа:\n",
    "1. Quentin Tarantino\n",
    "2. Steven Soderbergh\n",
    "3. Robert Rodriguez\n",
    "4. Christopher Nolan\n",
    "5. Clint Eastwood"
   ]
  },
  {
   "cell_type": "code",
   "execution_count": 42,
   "metadata": {},
   "outputs": [
    {
     "name": "stdout",
     "output_type": "stream",
     "text": [
      "4. Christopher Nolan\n"
     ]
    }
   ],
   "source": [
    "top_5=('1. Quentin Tarantino'\n",
    "'2. Steven Soderbergh'\n",
    "'3. Robert Rodriguez'\n",
    "'4. Christopher Nolan'\n",
    "'5. Clint Eastwood')\n",
    "\n",
    "directors = re.split('\\d\\. ', top_5)[1:]\n",
    "\n",
    "splitted = split_glued('director', 'profit')\n",
    "\n",
    "profitable = splitted.query('profit > 0').pivot_table(index='director', values='profit', aggfunc='count')\n",
    "\n",
    "total = splitted.pivot_table(index='director', values='profit', aggfunc='count')\n",
    "                                                                                                                     \n",
    "\n",
    "rate = profitable['profit'] / total['profit']\n",
    "\n",
    "answer=rate[rate.index.isin(directors)].idxmax()\n",
    "add_answer(answer)\n"
   ]
  },
  {
   "cell_type": "markdown",
   "metadata": {},
   "source": [
    "# Submission"
   ]
  },
  {
   "cell_type": "code",
   "execution_count": 43,
   "metadata": {},
   "outputs": [
    {
     "data": {
      "text/plain": [
       "36"
      ]
     },
     "execution_count": 43,
     "metadata": {},
     "output_type": "execute_result"
    }
   ],
   "source": [
    "len(answer_ls)"
   ]
  },
  {
   "cell_type": "code",
   "execution_count": 44,
   "metadata": {},
   "outputs": [
    {
     "data": {
      "text/html": [
       "<div>\n",
       "<style scoped>\n",
       "    .dataframe tbody tr th:only-of-type {\n",
       "        vertical-align: middle;\n",
       "    }\n",
       "\n",
       "    .dataframe tbody tr th {\n",
       "        vertical-align: top;\n",
       "    }\n",
       "\n",
       "    .dataframe thead th {\n",
       "        text-align: right;\n",
       "    }\n",
       "</style>\n",
       "<table border=\"1\" class=\"dataframe\">\n",
       "  <thead>\n",
       "    <tr style=\"text-align: right;\">\n",
       "      <th></th>\n",
       "      <th>Id</th>\n",
       "      <th>Answer</th>\n",
       "    </tr>\n",
       "  </thead>\n",
       "  <tbody>\n",
       "    <tr>\n",
       "      <td>0</td>\n",
       "      <td>1</td>\n",
       "      <td>4</td>\n",
       "    </tr>\n",
       "    <tr>\n",
       "      <td>1</td>\n",
       "      <td>2</td>\n",
       "      <td>2</td>\n",
       "    </tr>\n",
       "    <tr>\n",
       "      <td>2</td>\n",
       "      <td>3</td>\n",
       "      <td>3</td>\n",
       "    </tr>\n",
       "    <tr>\n",
       "      <td>3</td>\n",
       "      <td>4</td>\n",
       "      <td>2</td>\n",
       "    </tr>\n",
       "    <tr>\n",
       "      <td>4</td>\n",
       "      <td>5</td>\n",
       "      <td>1</td>\n",
       "    </tr>\n",
       "    <tr>\n",
       "      <td>5</td>\n",
       "      <td>6</td>\n",
       "      <td>5</td>\n",
       "    </tr>\n",
       "    <tr>\n",
       "      <td>6</td>\n",
       "      <td>7</td>\n",
       "      <td>2</td>\n",
       "    </tr>\n",
       "    <tr>\n",
       "      <td>7</td>\n",
       "      <td>8</td>\n",
       "      <td>1</td>\n",
       "    </tr>\n",
       "    <tr>\n",
       "      <td>8</td>\n",
       "      <td>9</td>\n",
       "      <td>4</td>\n",
       "    </tr>\n",
       "    <tr>\n",
       "      <td>9</td>\n",
       "      <td>10</td>\n",
       "      <td>5</td>\n",
       "    </tr>\n",
       "    <tr>\n",
       "      <td>10</td>\n",
       "      <td>11</td>\n",
       "      <td>3</td>\n",
       "    </tr>\n",
       "    <tr>\n",
       "      <td>11</td>\n",
       "      <td>12</td>\n",
       "      <td>1</td>\n",
       "    </tr>\n",
       "    <tr>\n",
       "      <td>12</td>\n",
       "      <td>13</td>\n",
       "      <td>3</td>\n",
       "    </tr>\n",
       "    <tr>\n",
       "      <td>13</td>\n",
       "      <td>14</td>\n",
       "      <td>4</td>\n",
       "    </tr>\n",
       "    <tr>\n",
       "      <td>14</td>\n",
       "      <td>15</td>\n",
       "      <td>5</td>\n",
       "    </tr>\n",
       "    <tr>\n",
       "      <td>15</td>\n",
       "      <td>16</td>\n",
       "      <td>1</td>\n",
       "    </tr>\n",
       "    <tr>\n",
       "      <td>16</td>\n",
       "      <td>17</td>\n",
       "      <td>3</td>\n",
       "    </tr>\n",
       "    <tr>\n",
       "      <td>17</td>\n",
       "      <td>18</td>\n",
       "      <td>3</td>\n",
       "    </tr>\n",
       "    <tr>\n",
       "      <td>18</td>\n",
       "      <td>19</td>\n",
       "      <td>2</td>\n",
       "    </tr>\n",
       "    <tr>\n",
       "      <td>19</td>\n",
       "      <td>20</td>\n",
       "      <td>1</td>\n",
       "    </tr>\n",
       "    <tr>\n",
       "      <td>20</td>\n",
       "      <td>21</td>\n",
       "      <td>4</td>\n",
       "    </tr>\n",
       "    <tr>\n",
       "      <td>21</td>\n",
       "      <td>22</td>\n",
       "      <td>2</td>\n",
       "    </tr>\n",
       "    <tr>\n",
       "      <td>22</td>\n",
       "      <td>23</td>\n",
       "      <td>3</td>\n",
       "    </tr>\n",
       "    <tr>\n",
       "      <td>23</td>\n",
       "      <td>24</td>\n",
       "      <td>1</td>\n",
       "    </tr>\n",
       "    <tr>\n",
       "      <td>24</td>\n",
       "      <td>25</td>\n",
       "      <td>5</td>\n",
       "    </tr>\n",
       "    <tr>\n",
       "      <td>25</td>\n",
       "      <td>26</td>\n",
       "      <td>1</td>\n",
       "    </tr>\n",
       "    <tr>\n",
       "      <td>26</td>\n",
       "      <td>27</td>\n",
       "      <td>4</td>\n",
       "    </tr>\n",
       "    <tr>\n",
       "      <td>27</td>\n",
       "      <td>28</td>\n",
       "      <td>2</td>\n",
       "    </tr>\n",
       "    <tr>\n",
       "      <td>28</td>\n",
       "      <td>29</td>\n",
       "      <td>5</td>\n",
       "    </tr>\n",
       "    <tr>\n",
       "      <td>29</td>\n",
       "      <td>30</td>\n",
       "      <td>2</td>\n",
       "    </tr>\n",
       "    <tr>\n",
       "      <td>30</td>\n",
       "      <td>31</td>\n",
       "      <td>5</td>\n",
       "    </tr>\n",
       "    <tr>\n",
       "      <td>31</td>\n",
       "      <td>32</td>\n",
       "      <td>5</td>\n",
       "    </tr>\n",
       "    <tr>\n",
       "      <td>32</td>\n",
       "      <td>33</td>\n",
       "      <td>3</td>\n",
       "    </tr>\n",
       "    <tr>\n",
       "      <td>33</td>\n",
       "      <td>34</td>\n",
       "      <td>1</td>\n",
       "    </tr>\n",
       "    <tr>\n",
       "      <td>34</td>\n",
       "      <td>35</td>\n",
       "      <td>5</td>\n",
       "    </tr>\n",
       "    <tr>\n",
       "      <td>35</td>\n",
       "      <td>36</td>\n",
       "      <td>4</td>\n",
       "    </tr>\n",
       "  </tbody>\n",
       "</table>\n",
       "</div>"
      ],
      "text/plain": [
       "    Id  Answer\n",
       "0    1       4\n",
       "1    2       2\n",
       "2    3       3\n",
       "3    4       2\n",
       "4    5       1\n",
       "5    6       5\n",
       "6    7       2\n",
       "7    8       1\n",
       "8    9       4\n",
       "9   10       5\n",
       "10  11       3\n",
       "11  12       1\n",
       "12  13       3\n",
       "13  14       4\n",
       "14  15       5\n",
       "15  16       1\n",
       "16  17       3\n",
       "17  18       3\n",
       "18  19       2\n",
       "19  20       1\n",
       "20  21       4\n",
       "21  22       2\n",
       "22  23       3\n",
       "23  24       1\n",
       "24  25       5\n",
       "25  26       1\n",
       "26  27       4\n",
       "27  28       2\n",
       "28  29       5\n",
       "29  30       2\n",
       "30  31       5\n",
       "31  32       5\n",
       "32  33       3\n",
       "33  34       1\n",
       "34  35       5\n",
       "35  36       4"
      ]
     },
     "execution_count": 44,
     "metadata": {},
     "output_type": "execute_result"
    }
   ],
   "source": [
    "pd.DataFrame({'Id':range(1,len(answer_ls)+1), 'Answer':answer_ls}, columns=['Id', 'Answer'])"
   ]
  }
 ],
 "metadata": {
  "kernelspec": {
   "display_name": "Python 3",
   "language": "python",
   "name": "python3"
  },
  "language_info": {
   "codemirror_mode": {
    "name": "ipython",
    "version": 3
   },
   "file_extension": ".py",
   "mimetype": "text/x-python",
   "name": "python",
   "nbconvert_exporter": "python",
   "pygments_lexer": "ipython3",
   "version": "3.7.4"
  }
 },
 "nbformat": 4,
 "nbformat_minor": 4
}
