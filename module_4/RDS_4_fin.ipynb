{
 "cells": [
  {
   "cell_type": "markdown",
   "metadata": {},
   "source": [
    "## 0. Постановка задачи\n",
    "Имеем датасет, содержащий скоринговую информацию. Используя логистическую регрессию, строим на этом датасете предсказательную модель.\n",
    "\n",
    "Описания полей\n",
    "* client_id - идентификатор клиента\n",
    "* education - уровень образования\n",
    "* sex - пол заемщика\n",
    "* age - возраст заемщика\n",
    "* car - флаг наличия автомобиля\n",
    "* car_type - флаг автомобиля иномарки\n",
    "* decline_app_cnt - количество отказанных прошлых заявок\n",
    "* good_work - флаг наличия “хорошей” работы\n",
    "* bki_request_cnt - количество запросов в БКИ\n",
    "* home_address - категоризатор домашнего адреса\n",
    "* work_address - категоризатор рабочего адреса\n",
    "* income - доход заемщика\n",
    "* foreign_passport - наличие загранпаспорта\n",
    "* sna - связь заемщика с клиентами банка\n",
    "* first_time - давность наличия информации о заемщике\n",
    "* score_bki - скоринговый балл по данным из БКИ\n",
    "* region_rating - рейтинг региона\n",
    "* app_date - дата подачи заявки\n",
    "* default - флаг дефолта по кредиту\n",
    "\n",
    "Поскольку эксперимент заключался в проверке миксов различных подходов, данный ноутбук не воспроизводит этот крайне нелинейный процесс, а иллюстрирует его основные участки и использованные инструменты.\n",
    "\n"
   ]
  },
  {
   "cell_type": "code",
   "execution_count": 452,
   "metadata": {},
   "outputs": [],
   "source": [
    "from pandas import Series\n",
    "import pandas as pd\n",
    "import numpy as np\n",
    "\n",
    "\n",
    "import matplotlib.pyplot as plt\n",
    "import seaborn as sns\n",
    "\n",
    "from sklearn.feature_selection import f_classif, mutual_info_classif\n",
    "from sklearn.preprocessing import LabelEncoder, OneHotEncoder, StandardScaler\n",
    "\n",
    "from sklearn.model_selection import train_test_split\n",
    "from sklearn.linear_model import LogisticRegression\n",
    "\n",
    "\n",
    "from sklearn.metrics import confusion_matrix\n",
    "from sklearn.metrics import auc, roc_auc_score, roc_curve\n",
    "\n",
    "%matplotlib inline"
   ]
  },
  {
   "cell_type": "markdown",
   "metadata": {},
   "source": [
    "## 1.  Загрузка и EDA"
   ]
  },
  {
   "cell_type": "code",
   "execution_count": 453,
   "metadata": {},
   "outputs": [
    {
     "name": "stdout",
     "output_type": "stream",
     "text": [
      "<class 'pandas.core.frame.DataFrame'>\n",
      "RangeIndex: 73799 entries, 0 to 73798\n",
      "Data columns (total 19 columns):\n",
      " #   Column            Non-Null Count  Dtype  \n",
      "---  ------            --------------  -----  \n",
      " 0   client_id         73799 non-null  int64  \n",
      " 1   app_date          73799 non-null  object \n",
      " 2   education         73492 non-null  object \n",
      " 3   sex               73799 non-null  object \n",
      " 4   age               73799 non-null  int64  \n",
      " 5   car               73799 non-null  object \n",
      " 6   car_type          73799 non-null  object \n",
      " 7   decline_app_cnt   73799 non-null  int64  \n",
      " 8   good_work         73799 non-null  int64  \n",
      " 9   score_bki         73799 non-null  float64\n",
      " 10  bki_request_cnt   73799 non-null  int64  \n",
      " 11  region_rating     73799 non-null  int64  \n",
      " 12  home_address      73799 non-null  int64  \n",
      " 13  work_address      73799 non-null  int64  \n",
      " 14  income            73799 non-null  int64  \n",
      " 15  sna               73799 non-null  int64  \n",
      " 16  first_time        73799 non-null  int64  \n",
      " 17  foreign_passport  73799 non-null  object \n",
      " 18  default           73799 non-null  int64  \n",
      "dtypes: float64(1), int64(12), object(6)\n",
      "memory usage: 10.7+ MB\n",
      "<class 'pandas.core.frame.DataFrame'>\n",
      "RangeIndex: 36349 entries, 0 to 36348\n",
      "Data columns (total 18 columns):\n",
      " #   Column            Non-Null Count  Dtype  \n",
      "---  ------            --------------  -----  \n",
      " 0   client_id         36349 non-null  int64  \n",
      " 1   app_date          36349 non-null  object \n",
      " 2   education         36178 non-null  object \n",
      " 3   sex               36349 non-null  object \n",
      " 4   age               36349 non-null  int64  \n",
      " 5   car               36349 non-null  object \n",
      " 6   car_type          36349 non-null  object \n",
      " 7   decline_app_cnt   36349 non-null  int64  \n",
      " 8   good_work         36349 non-null  int64  \n",
      " 9   score_bki         36349 non-null  float64\n",
      " 10  bki_request_cnt   36349 non-null  int64  \n",
      " 11  region_rating     36349 non-null  int64  \n",
      " 12  home_address      36349 non-null  int64  \n",
      " 13  work_address      36349 non-null  int64  \n",
      " 14  income            36349 non-null  int64  \n",
      " 15  sna               36349 non-null  int64  \n",
      " 16  first_time        36349 non-null  int64  \n",
      " 17  foreign_passport  36349 non-null  object \n",
      "dtypes: float64(1), int64(11), object(6)\n",
      "memory usage: 5.0+ MB\n"
     ]
    }
   ],
   "source": [
    "train=pd.read_csv('train.csv')\n",
    "test=pd.read_csv('test.csv')\n",
    "train.info()\n",
    "test.info()"
   ]
  },
  {
   "cell_type": "markdown",
   "metadata": {},
   "source": [
    "Первое, что видим: пропуски в колонке ***education***, причем, и в обучающей и в тестовой (!) выборке. В принципе, речь идет менее чем о полпроценте данных, поэтому проще всего было бы удалить. Но поскольку нам предстоит сдавать сабмит с фиксированным количеством строк, об удалении речи быть не может. Поэтому пропуски надо будет заполнить. Забегая вперед, заглушка \"не предоставлено\" не подходит, поскольку этот признак по своей сути ранговый. Заполним, поэтому, наиболее частым значением - SCH."
   ]
  },
  {
   "cell_type": "code",
   "execution_count": 454,
   "metadata": {},
   "outputs": [
    {
     "name": "stdout",
     "output_type": "stream",
     "text": [
      "<class 'pandas.core.frame.DataFrame'>\n",
      "Int64Index: 110148 entries, 0 to 36348\n",
      "Data columns (total 20 columns):\n",
      " #   Column            Non-Null Count   Dtype  \n",
      "---  ------            --------------   -----  \n",
      " 0   client_id         110148 non-null  int64  \n",
      " 1   app_date          110148 non-null  object \n",
      " 2   education         110148 non-null  object \n",
      " 3   sex               110148 non-null  object \n",
      " 4   age               110148 non-null  int64  \n",
      " 5   car               110148 non-null  object \n",
      " 6   car_type          110148 non-null  object \n",
      " 7   decline_app_cnt   110148 non-null  int64  \n",
      " 8   good_work         110148 non-null  int64  \n",
      " 9   score_bki         110148 non-null  float64\n",
      " 10  bki_request_cnt   110148 non-null  int64  \n",
      " 11  region_rating     110148 non-null  int64  \n",
      " 12  home_address      110148 non-null  int64  \n",
      " 13  work_address      110148 non-null  int64  \n",
      " 14  income            110148 non-null  int64  \n",
      " 15  sna               110148 non-null  int64  \n",
      " 16  first_time        110148 non-null  int64  \n",
      " 17  foreign_passport  110148 non-null  object \n",
      " 18  default           110148 non-null  int64  \n",
      " 19  train             110148 non-null  int64  \n",
      "dtypes: float64(1), int64(13), object(6)\n",
      "memory usage: 17.6+ MB\n"
     ]
    }
   ],
   "source": [
    "# cтавим флаги принадлежности к обучающей выборке\n",
    "train['train'] = 1\n",
    "test['train'] = 0\n",
    "test['default'] = 0  # просто, чтобы не отсвечивали NaN в тестовой части датасета\n",
    "# объединяем выборки в один датасет, чтобы обработка признаков происходила одновременно\n",
    "data = pd.concat([train, test], sort = False)\n",
    "# заполняем пропуски в образовании заглушкой\n",
    "data.education.fillna('SCH', inplace=True)\n",
    "data.info()"
   ]
  },
  {
   "cell_type": "markdown",
   "metadata": {},
   "source": [
    "Дату подачи заявки мы сразу вынесем за рамки, как и id клиента - это внутренняя идентификация заявки, но не релеватная для обучения информация.\n",
    "\n",
    "### Бинарные признаки\n",
    "Посмотрим, какие у нас бинарные признаки"
   ]
  },
  {
   "cell_type": "code",
   "execution_count": 455,
   "metadata": {},
   "outputs": [
    {
     "data": {
      "text/plain": [
       "['sex', 'car', 'car_type', 'good_work', 'foreign_passport']"
      ]
     },
     "execution_count": 455,
     "metadata": {},
     "output_type": "execute_result"
    }
   ],
   "source": [
    "\n",
    "bin_cols = [x for x in data.columns if data[x].dropna().nunique() == 2][:-2] #последние два отбросим сразу это default и train\n",
    "bin_cols"
   ]
  },
  {
   "cell_type": "markdown",
   "metadata": {},
   "source": [
    "Теоретически, признаки ***car*** и ***car_type*** можно было бы заменить одним ранговым, представляющим собой их сумму. Тогда ноль означал бы отсутствие машины, единица - отечественную, двойка - иномарку. Посмотрим, как такой признак связан с дефолтом. Для простоты, обойдемся пока без преобразований в 0/1 - в данном случае результат будет наглядным и так.\n",
    "    "
   ]
  },
  {
   "cell_type": "code",
   "execution_count": 456,
   "metadata": {},
   "outputs": [
    {
     "data": {
      "text/plain": [
       "NN    0.136960\n",
       "YN    0.132744\n",
       "YY    0.087450\n",
       "dtype: float64"
      ]
     },
     "execution_count": 456,
     "metadata": {},
     "output_type": "execute_result"
    }
   ],
   "source": [
    "train['car_cat'] = train.car + train.car_type\n",
    "# процент неплательщиков в каждой группе\n",
    "train.groupby(by='car_cat').default.sum() / train.car_cat.value_counts()"
   ]
  },
  {
   "cell_type": "markdown",
   "metadata": {},
   "source": [
    "Получаем, что принципиальное отличие от основной массы дает владение иномаркой. А безлошадные и владельцы отечественного автопрома (точнее, его продукции) практически идентичны. Что дает нам основания в дальнейшем обойтись одним признаком car_type вместо двух или их производного."
   ]
  },
  {
   "cell_type": "code",
   "execution_count": 457,
   "metadata": {},
   "outputs": [
    {
     "data": {
      "text/plain": [
       "sex\n",
       "F    0.121241\n",
       "M    0.134411\n",
       "dtype: float64"
      ]
     },
     "metadata": {},
     "output_type": "display_data"
    },
    {
     "data": {
      "text/plain": [
       "good_work\n",
       "0    0.133409\n",
       "1    0.094502\n",
       "dtype: float64"
      ]
     },
     "metadata": {},
     "output_type": "display_data"
    },
    {
     "data": {
      "text/plain": [
       "foreign_passport\n",
       "N    0.136324\n",
       "Y    0.074101\n",
       "dtype: float64"
      ]
     },
     "metadata": {},
     "output_type": "display_data"
    }
   ],
   "source": [
    "for col in ['sex', 'good_work', 'foreign_passport']:\n",
    "    display(train.groupby(by=col).default.sum() / train[col].value_counts())"
   ]
  },
  {
   "cell_type": "markdown",
   "metadata": {},
   "source": [
    "Ожидаемо, практически не влияет пол, а признаки благополучия - хорошая работа и загранпаспорт очень даже влияют.\n",
    "Пока что мы оставим все три признака и вместе с иномаркой преобразуем их в бинарный код.\n"
   ]
  },
  {
   "cell_type": "code",
   "execution_count": 458,
   "metadata": {},
   "outputs": [],
   "source": [
    "bin_cols = ['car_type', 'sex', 'good_work', 'foreign_passport']\n",
    "\n",
    "label_encoder = LabelEncoder()\n",
    "\n",
    "for column in bin_cols:\n",
    "    data[column] = label_encoder.fit_transform(data[column])"
   ]
  },
  {
   "cell_type": "markdown",
   "metadata": {},
   "source": [
    "### Категориальные признаки\n",
    "\n",
    "Начнем с образования. Расшифровки по типам образования у нас нет, но она легко угадывается: SCH - school, школьное, UGR - undergraduate, GRD - graduate магистр,  бакалавр, PGR - postgraduate, аспирант, ACD - academy, академия. Частота уровней образования почти обратно пропорциональна собственно уровню (для компактности гистограмма не приведена). Почти, потому что магистры опережают бакалвров. Очевидно, потому что тратить время/деньги на не очень полноценное высшее мало кто хочет. "
   ]
  },
  {
   "cell_type": "code",
   "execution_count": 459,
   "metadata": {},
   "outputs": [
    {
     "data": {
      "text/plain": [
       "ACD    0.041237\n",
       "GRD    0.090092\n",
       "PGR    0.064439\n",
       "SCH    0.150592\n",
       "UGR    0.131520\n",
       "dtype: float64"
      ]
     },
     "execution_count": 459,
     "metadata": {},
     "output_type": "execute_result"
    }
   ],
   "source": [
    "train.groupby(by='education').default.sum() / train.education.value_counts()\n"
   ]
  },
  {
   "cell_type": "markdown",
   "metadata": {},
   "source": [
    "Как видим, доля должников обратно пропорциональна уровню образования. Признак будем кодировать в ранговый."
   ]
  },
  {
   "cell_type": "code",
   "execution_count": 460,
   "metadata": {},
   "outputs": [],
   "source": [
    "enc = LabelEncoder()\n",
    "enc.fit(['SCH', 'UGR', 'GRD', 'PGR', 'ACD'])\n",
    "\n",
    "data.education = enc.transform(data.education)"
   ]
  },
  {
   "cell_type": "markdown",
   "metadata": {},
   "source": [
    "Связь заемщика с клиентами банка - параметр с неочевидным смыслом. Речь может идти либо о каких-то градациях взаимосвязи (например: член семьи, родственник, знакомый, никто)  либо просто об условной кодировке. "
   ]
  },
  {
   "cell_type": "code",
   "execution_count": 461,
   "metadata": {},
   "outputs": [
    {
     "data": {
      "text/plain": [
       "1    0.098201\n",
       "2    0.149821\n",
       "3    0.157652\n",
       "4    0.211507\n",
       "dtype: float64"
      ]
     },
     "execution_count": 461,
     "metadata": {},
     "output_type": "execute_result"
    }
   ],
   "source": [
    "train.groupby(by='sna').default.sum() / train.sna.value_counts()\n"
   ]
  },
  {
   "cell_type": "markdown",
   "metadata": {},
   "source": [
    "Но, в любом случае это ранговый параметр, коррелирующий с частотой дефолтов. То же можно сказать про параметр давности информации (только в этом случае корреляция отрицательная) и ***work_address***"
   ]
  },
  {
   "cell_type": "code",
   "execution_count": 462,
   "metadata": {},
   "outputs": [
    {
     "data": {
      "text/plain": [
       "1    0.186126\n",
       "2    0.155429\n",
       "3    0.120269\n",
       "4    0.082030\n",
       "dtype: float64"
      ]
     },
     "execution_count": 462,
     "metadata": {},
     "output_type": "execute_result"
    }
   ],
   "source": [
    "train.groupby(by='first_time').default.sum() / train.first_time.value_counts()\n"
   ]
  },
  {
   "cell_type": "code",
   "execution_count": 463,
   "metadata": {},
   "outputs": [
    {
     "data": {
      "text/plain": [
       "1    0.074154\n",
       "2    0.102507\n",
       "3    0.147957\n",
       "dtype: float64"
      ]
     },
     "execution_count": 463,
     "metadata": {},
     "output_type": "execute_result"
    }
   ],
   "source": [
    "train.groupby(by='work_address').default.sum() / train.work_address.value_counts()"
   ]
  },
  {
   "cell_type": "code",
   "execution_count": 464,
   "metadata": {},
   "outputs": [
    {
     "data": {
      "text/plain": [
       "1    0.092896\n",
       "2    0.155146\n",
       "3    0.116057\n",
       "dtype: float64"
      ]
     },
     "metadata": {},
     "output_type": "display_data"
    }
   ],
   "source": [
    "display(train.groupby(by='home_address').default.sum() / train.home_address.value_counts())"
   ]
  },
  {
   "cell_type": "code",
   "execution_count": 465,
   "metadata": {},
   "outputs": [],
   "source": [
    "cat_cols = ['education', 'work_address', 'sna', 'first_time']\n"
   ]
  },
  {
   "cell_type": "markdown",
   "metadata": {},
   "source": [
    "А вот в случае ***home_address*** уже нет такой наглядной корреляции. Этот параметр имеет смысл преобразовать OHE, переведя тем самым в бинарные признаки."
   ]
  },
  {
   "cell_type": "code",
   "execution_count": 466,
   "metadata": {},
   "outputs": [],
   "source": [
    "data = pd.get_dummies(data, columns=['home_address'], drop_first=True)\n",
    "bin_cols += ['home_address_2', 'home_address_3']\n"
   ]
  },
  {
   "cell_type": "markdown",
   "metadata": {},
   "source": [
    "### Числовые признаки \n",
    "\n",
    "По сравнению с бейслайном добавилось два новых числовых признака - рейтинг заемщиков в БКИ и рейтинг регионов, где они проживают. Рейтинг БКИ уже заранее нормирован по какому-то принципу. Также боксплот показывает, что должники несколько смещены относительно остальных заемщиков, но не зная принципов нормировки, сложно оценить масштаб.\n"
   ]
  },
  {
   "cell_type": "code",
   "execution_count": 467,
   "metadata": {},
   "outputs": [
    {
     "data": {
      "image/png": "[encoded data removed]",
      "text/plain": [
       "<Figure size 864x288 with 2 Axes>"
      ]
     },
     "metadata": {
      "needs_background": "light"
     },
     "output_type": "display_data"
    },
    {
     "data": {
      "image/png": "[encoded data removed]",
      "text/plain": [
       "<Figure size 864x288 with 2 Axes>"
      ]
     },
     "metadata": {
      "needs_background": "light"
     },
     "output_type": "display_data"
    }
   ],
   "source": [
    "def hist_and_box (df_column):\n",
    "    \n",
    "    \"\"\" Для удобства вывод гистограммы и боксплота по одному параметру в ряд\n",
    "    \n",
    "        На входе колонка (не название, а сам объект pd.Series)\"\"\"\n",
    "    \n",
    "    bins= min([10, df_column.nunique()])\n",
    "    \n",
    "    fig = plt.figure(figsize=(12, 4)) \n",
    "    ax_1 = fig.add_subplot(121)\n",
    "    ax_1.set_xlabel(df_column.name)\n",
    "    df_column.hist(bins=bins, ax=ax_1)\n",
    "    sns.boxplot(df_column, ax=fig.add_subplot(122))\n",
    "    plt.show()\n",
    "    return None\n",
    "\n",
    "hist_and_box(train.query('default == 1').score_bki)\n",
    "hist_and_box(train.query('default == 0').score_bki)\n"
   ]
  },
  {
   "cell_type": "markdown",
   "metadata": {},
   "source": [
    "Рейтинг регионов с его семью возможными значениями можно трактовать и как категориальный, и как числовой параметр. (И в первом варианте, возможно, применить ОНЕ). Но, как показала проверка вариантов (за кадром), тот или иной подход не дал явных отличий в результате. Поэтому оставим его в числовых параметрах."
   ]
  },
  {
   "cell_type": "code",
   "execution_count": 468,
   "metadata": {},
   "outputs": [
    {
     "data": {
      "image/png": "[encoded data removed]",
      "text/plain": [
       "<Figure size 864x288 with 2 Axes>"
      ]
     },
     "metadata": {
      "needs_background": "light"
     },
     "output_type": "display_data"
    },
    {
     "data": {
      "image/png": "[encoded data removed]",
      "text/plain": [
       "<Figure size 864x288 with 2 Axes>"
      ]
     },
     "metadata": {
      "needs_background": "light"
     },
     "output_type": "display_data"
    },
    {
     "data": {
      "image/png": "[encoded data removed]",
      "text/plain": [
       "<Figure size 864x288 with 2 Axes>"
      ]
     },
     "metadata": {
      "needs_background": "light"
     },
     "output_type": "display_data"
    }
   ],
   "source": [
    "hist_and_box(train.query('default == 1').region_rating)\n",
    "hist_and_box(train.query('default == 0').region_rating)\n",
    "hist_and_box(data.region_rating)"
   ]
  },
  {
   "cell_type": "markdown",
   "metadata": {},
   "source": [
    "Еще в бейслайне было обнаружено, что часть числовых признаков сильно смещена влево, и их следует логарифмировать, чтобы убрать это смещение. Новые (относительно бейслайна) числовые признаки распределены вполне симметрично, поэтому их добавляем, как есть."
   ]
  },
  {
   "cell_type": "code",
   "execution_count": 469,
   "metadata": {},
   "outputs": [
    {
     "data": {
      "image/png": "[encoded data removed]",
      "text/plain": [
       "<Figure size 1008x1008 with 6 Axes>"
      ]
     },
     "metadata": {
      "needs_background": "light"
     },
     "output_type": "display_data"
    }
   ],
   "source": [
    "num_cols = ['age', 'decline_app_cnt', 'bki_request_cnt', 'income']\n",
    "data[num_cols] = data[num_cols].apply(lambda x: np.log(x+1))\n",
    "num_cols +=['score_bki', 'region_rating']\n",
    "fig = plt.figure(figsize=(14,14) )\n",
    "for j, column in enumerate(num_cols):\n",
    "    \n",
    "    ax=fig.add_subplot(3,2,j+1)\n",
    "    sns.distplot(data[column].dropna(), kde = False, rug=False,ax=ax)\n",
    "    \n",
    "plt.show()"
   ]
  },
  {
   "cell_type": "code",
   "execution_count": 470,
   "metadata": {},
   "outputs": [
    {
     "data": {
      "text/plain": [
       "<matplotlib.axes._subplots.AxesSubplot at 0x2a249c68c48>"
      ]
     },
     "execution_count": 470,
     "metadata": {},
     "output_type": "execute_result"
    },
    {
     "data": {
      "image/png": "[encoded data removed]",
      "text/plain": [
       "<Figure size 432x288 with 2 Axes>"
      ]
     },
     "metadata": {
      "needs_background": "light"
     },
     "output_type": "display_data"
    }
   ],
   "source": [
    "sns.heatmap(data[num_cols].corr())"
   ]
  },
  {
   "cell_type": "markdown",
   "metadata": {},
   "source": [
    "Корреляция между числовыми параметрами в целом слабая.  На общем фоне чуть заметнее связь между доходом и рейтингом региона, а также между рейтингом БКИ и количеством отказов, но они все равно в \"едва теплой\" зоне. Отмасштабируем числовые переменные и посмотрим на ранг значимости на будущее."
   ]
  },
  {
   "cell_type": "code",
   "execution_count": 471,
   "metadata": {},
   "outputs": [],
   "source": [
    "scaler = StandardScaler()\n",
    "scaler.fit(data[num_cols])\n",
    "data[num_cols] = scaler.transform(data[num_cols])"
   ]
  },
  {
   "cell_type": "code",
   "execution_count": 472,
   "metadata": {},
   "outputs": [],
   "source": [
    "#сначала, конечно, распочкуем данные назад на обучающую и тестовую выборки\n",
    "train = data[data.train == 1]\n",
    "test =  data[data.train == 0]"
   ]
  },
  {
   "cell_type": "code",
   "execution_count": 473,
   "metadata": {
    "scrolled": true
   },
   "outputs": [
    {
     "data": {
      "text/plain": [
       "<matplotlib.axes._subplots.AxesSubplot at 0x2a24c028748>"
      ]
     },
     "execution_count": 473,
     "metadata": {},
     "output_type": "execute_result"
    },
    {
     "data": {
      "image/png": "[encoded data removed]",
      "text/plain": [
       "<Figure size 432x288 with 1 Axes>"
      ]
     },
     "metadata": {
      "needs_background": "light"
     },
     "output_type": "display_data"
    }
   ],
   "source": [
    "imp_num = Series(f_classif(train[num_cols], train['default'])[0], index = num_cols)\n",
    "imp_num.sort_values(inplace = True)\n",
    "imp_num.plot(kind = 'barh')"
   ]
  },
  {
   "cell_type": "code",
   "execution_count": 474,
   "metadata": {},
   "outputs": [
    {
     "data": {
      "text/plain": [
       "<matplotlib.axes._subplots.AxesSubplot at 0x2a24bb3f8c8>"
      ]
     },
     "execution_count": 474,
     "metadata": {},
     "output_type": "execute_result"
    },
    {
     "data": {
      "image/png": "[encoded data removed]",
      "text/plain": [
       "<Figure size 432x288 with 1 Axes>"
      ]
     },
     "metadata": {
      "needs_background": "light"
     },
     "output_type": "display_data"
    }
   ],
   "source": [
    "imp_cat = Series(mutual_info_classif(train[bin_cols + cat_cols], train['default'],\n",
    "                                     discrete_features =True), index = bin_cols + cat_cols)\n",
    "imp_cat.sort_values(inplace = True)\n",
    "imp_cat.plot(kind = 'barh')\n"
   ]
  },
  {
   "cell_type": "markdown",
   "metadata": {},
   "source": [
    "## 2 Обучение и валидация\n",
    "\n",
    "Прежде всего, обратим внимание, что данные у нас выражено несбалансированные"
   ]
  },
  {
   "cell_type": "code",
   "execution_count": 475,
   "metadata": {},
   "outputs": [
    {
     "data": {
      "text/plain": [
       "0    0.873006\n",
       "1    0.126994\n",
       "Name: default, dtype: float64"
      ]
     },
     "execution_count": 475,
     "metadata": {},
     "output_type": "execute_result"
    }
   ],
   "source": [
    "train.default.value_counts(normalize=True)"
   ]
  },
  {
   "cell_type": "markdown",
   "metadata": {},
   "source": [
    "Без учета этого фактора, итоговая метрика на лидерборде едва превышала 0.5 (а при ближайшем рассмотрении был сильный перекос в отрицательные, т.е. нулевые, значения). При этом, даже при кросс-валидации, дисбаланс никак не проявлял себя в явном виде. С познавательной точки зрения, были опробованы три способа балансировки: встроенный в библиотечную логистическую регрессию, апсэмплинг и даунсэмплинг."
   ]
  },
  {
   "cell_type": "code",
   "execution_count": 476,
   "metadata": {},
   "outputs": [],
   "source": [
    "from sklearn.utils import shuffle\n",
    "def upsample (df, target_class):\n",
    "    \n",
    "    balance = df[target_class].value_counts()\n",
    "    lesser = balance.idxmin()\n",
    "    larger = balance.idxmax()\n",
    "    rate = round(balance.max()/balance.min()) - 1\n",
    "    \n",
    "    new_df = pd.concat([df[df[target_class] == larger]] + [df[df[target_class] == lesser]]*rate)\n",
    "    \n",
    "    return shuffle(new_df)\n",
    "\n",
    "\n",
    "def downsample (df, target_class):\n",
    "    \n",
    "    balance = df[target_class].value_counts()\n",
    "    lesser = balance.idxmin()\n",
    "    larger = balance.idxmax()\n",
    "    rate = balance.min()/balance.max()\n",
    "    \n",
    "    new_df = pd.concat([df[df[target_class] == larger].sample(frac=rate), df[df[target_class] == lesser]])\n",
    "    \n",
    "    return shuffle(new_df)"
   ]
  },
  {
   "cell_type": "code",
   "execution_count": 477,
   "metadata": {},
   "outputs": [],
   "source": [
    "train_up = upsample(train,'default')\n",
    "train_dn = downsample(train,'default')"
   ]
  },
  {
   "cell_type": "markdown",
   "metadata": {},
   "source": [
    "Довольно ожидаемо (основная проверка была на кэггле, поэтому нет смысла раздувать код), библиотечная балансировка показала себя наиболее эффективной, хотя по факту различия были в пределах плюс-минус одной пяти-десяти тысячных в метрике (если считать от средего показателя).\n"
   ]
  },
  {
   "cell_type": "code",
   "execution_count": 478,
   "metadata": {},
   "outputs": [],
   "source": [
    "X = train[cat_cols+bin_cols+num_cols]\n",
    "Y = train.default\n"
   ]
  },
  {
   "cell_type": "code",
   "execution_count": 479,
   "metadata": {},
   "outputs": [
    {
     "name": "stdout",
     "output_type": "stream",
     "text": [
      "Лучшее Penalty: l2\n",
      "Лучшее C: 21.544346900318832\n",
      "Лучший баланс: None\n"
     ]
    }
   ],
   "source": [
    "from sklearn.model_selection import GridSearchCV\n",
    "\n",
    "# Добавим типы регуляризации\n",
    "penalty = ['l1', 'l2']\n",
    "class_weight =[None, 'balanced']\n",
    "# Зададим ограничения для параметра регуляризации\n",
    "C = np.logspace(0, 4, 10)\n",
    "\n",
    "# Создадим гиперпараметры\n",
    "hyperparameters = dict(C=C, penalty=penalty, class_weight=class_weight)\n",
    "\n",
    "model = LogisticRegression(solver='liblinear')\n",
    "model.fit(X_train, y_train)\n",
    "\n",
    "# Создаем сетку поиска с использованием 5-кратной перекрестной проверки\n",
    "clf = GridSearchCV(model, hyperparameters, cv=5, verbose=0)\n",
    "\n",
    "best_model = clf.fit(X_train, y_train)\n",
    "\n",
    "# View best hyperparameters\n",
    "print('Лучшее Penalty:', best_model.best_estimator_.get_params()['penalty'])\n",
    "print('Лучшее C:', best_model.best_estimator_.get_params()['C'])\n",
    "print('Лучший баланс:', best_model.best_estimator_.get_params()['class_weight'])"
   ]
  },
  {
   "cell_type": "markdown",
   "metadata": {},
   "source": [
    "Любопытно, что оценка оптимальной регуляризации настойчиво предлагала несбалансированный вариант. \n",
    "Что касается кросс-валидации, разброс метрик она показывала на всех вариациах примерно один и тот же, и средняя метрика отличалась только в треьем знаке."
   ]
  },
  {
   "cell_type": "code",
   "execution_count": 480,
   "metadata": {},
   "outputs": [
    {
     "data": {
      "text/plain": [
       "array([0.73715412, 0.72822028, 0.72348818, 0.72723022, 0.73257302,\n",
       "       0.72819989, 0.73309297, 0.74731079, 0.71299523, 0.72035803])"
      ]
     },
     "execution_count": 480,
     "metadata": {},
     "output_type": "execute_result"
    }
   ],
   "source": [
    "from sklearn.linear_model import LogisticRegression\n",
    "lm = LogisticRegression(solver='liblinear', C=7.74, class_weight='balanced') \n",
    "model = lm.fit(X_train, y_train)\n",
    "from sklearn.model_selection import cross_val_score\n",
    "cross_val_score(lm, X, Y, cv=10, scoring='roc_auc')"
   ]
  },
  {
   "cell_type": "code",
   "execution_count": 481,
   "metadata": {},
   "outputs": [
    {
     "name": "stdout",
     "output_type": "stream",
     "text": [
      "Best  score: 0.73\n",
      "Best subset (corresponding names): ('education', 'work_address', 'sna', 'first_time', 'car_type', 'sex', 'good_work', 'foreign_passport', 'home_address_2', 'age', 'decline_app_cnt', 'bki_request_cnt', 'income', 'score_bki', 'region_rating')\n",
      "Wall time: 25.9 s\n"
     ]
    }
   ],
   "source": [
    "%%time\n",
    "from mlxtend.feature_selection import SequentialFeatureSelector as SFS\n",
    "\n",
    "sfs = SFS(model, \n",
    "          k_features=(7,16), \n",
    "          forward=False, \n",
    "          floating=False, \n",
    "          scoring='roc_auc',\n",
    "          cv=2)\n",
    "sfs = sfs.fit(X, Y)\n",
    "\n",
    "print('Best  score: %.2f' % sfs.k_score_)\n",
    "\n",
    "print('Best subset (corresponding names):',  sfs.k_feature_names_)"
   ]
  },
  {
   "cell_type": "markdown",
   "metadata": {},
   "source": [
    "Также были опробованы различные способы отбора признаков, начиная с интуитивных вручную и заканчивая SequentialFeatureSelector (выше) и ExhaustiveFeatureSelector (в силу высокой ресурсоемкости запускался отдельно и не включен в ноутбук). Существенного сокращения количества признаков ни один из методов не предложил. В принципе, все отличия укладывались в основном в плюс минус пять тысячных от 0.73 в ноутбуке и 0.666 на платформе. Это дает основания полагать, что вопрос переобучения снимается в целом балансировкой классов, и дальнейшее улучшение метрики требует скорее дообучения модели путем ее усложнения. (Параметры регулярицзации влияют на результат не принципиально)."
   ]
  },
  {
   "cell_type": "code",
   "execution_count": 482,
   "metadata": {},
   "outputs": [],
   "source": [
    "X = train[list(sfs.k_feature_names_)]\n",
    "x_sample = test[list(sfs.k_feature_names_)]\n",
    "model = lm.fit(X,Y)\n",
    "y_sample = model.predict(x_sample)\n",
    "\n",
    "submit = pd.DataFrame(test.client_id)\n",
    "submit['default']=y_sample\n",
    "submit.to_csv('submission_sfs.csv', index=False)"
   ]
  },
  {
   "cell_type": "markdown",
   "metadata": {},
   "source": [
    "## 4 Заключение\n",
    "\n",
    "В условиях цейтнота не удалось, к сожалению, решить вопрос дообучения модели. Датасет максимально абстрактен, т.е. не привязан к какому-то контексту, и прибегнуть к внешним источникам данных не представляется возможным. Существенная часть ключевых параметров изначально закодирована или нормирована и их \"физический смысл\" скрыт. Поэтому вопрос - как обоснованно сгенерировать дополнительные параметры, которые в ноутбуке дадут метрику ближе к 8 (а на кэггле, выше 7) - остался открытым. (Опция \"необоснованно сгенерировать\" - т.е. искусственно сочинить производные параметры в товарных количествах и подобрать оптимальную конфигурацию - заведомо не укладывалась во временные рамки)."
   ]
  }
 ],
 "metadata": {
  "kernelspec": {
   "display_name": "Python 3",
   "language": "python",
   "name": "python3"
  },
  "language_info": {
   "codemirror_mode": {
    "name": "ipython",
    "version": 3
   },
   "file_extension": ".py",
   "mimetype": "text/x-python",
   "name": "python",
   "nbconvert_exporter": "python",
   "pygments_lexer": "ipython3",
   "version": "3.7.4"
  }
 },
 "nbformat": 4,
 "nbformat_minor": 2
}
