{
 "cells": [
  {
   "cell_type": "markdown",
   "metadata": {},
   "source": [
    "# ПРОЕКТ RDS-5 \"Car Prediction\"\n",
    "### КОМАНДА \"WRECKING CREW\", DST-10\n",
    "**Авдуевский Александр, Гололобов Андрей, Семенов Иван**"
   ]
  },
  {
   "cell_type": "markdown",
   "metadata": {},
   "source": [
    "## 0. ВВЕДЕНИЕ\n",
    "\n",
    "**Дано:** датасет с \"анкетными данными\" некогда проданных/выставленных на продажу в московском регионе автомобилей BWM с пробегом.\n",
    "\n",
    "**Задача:** восстановить их цены (отстуствуют в датасете) на основе внешних данных при помощи методов машинного обучения.\n",
    "\n",
    "*Поскольку процесс работы над проектом был сильно распараллелен, данный нотутбук включает в себя только его основной вектор и не отражает его последовательную хронологию.*"
   ]
  },
  {
   "cell_type": "markdown",
   "metadata": {},
   "source": [
    "Первичный анализ тестового датасета и дотсупных источников данных, показал, что информация в датасете основана скорее всего на данных сайта auto.ru на конец 2019 года. Соответственно основным источником данных был выбран сайт auto.ru.\n",
    "\n",
    "В процессе парсинга упор делался на данные, аналогичные представленным в датасете, плюс была взята информация, на основе которой могли быть теоретически созданы групповые признаки, переносимые в тестовый сет (например, средний рейтинг модели) или в какой-то степени восстановимые на основе текстового описания (например, является ли продавец дилером и каким). Также были взяты поля, могущие служить \"контролем\" для других полей.\n",
    "\n",
    "Поскольку парсинг задача достаточно автономная, по соображениям компактности, соответствующий код вынесен в отдельный файл, находящийся в этом же репозитории. Сам парсинг из данного ноутбука не вызывается, используется сам результат его работы."
   ]
  },
  {
   "cell_type": "markdown",
   "metadata": {},
   "source": [
    "## 1. Загрузка и первичный анализ"
   ]
  },
  {
   "cell_type": "code",
   "execution_count": 5,
   "metadata": {},
   "outputs": [
    {
     "name": "stderr",
     "output_type": "stream",
     "text": [
      "C:\\Users\\79067\\Anaconda3\\lib\\site-packages\\statsmodels\\tools\\_testing.py:19: FutureWarning: pandas.util.testing is deprecated. Use the functions in the public API at pandas.testing instead.\n",
      "  import pandas.util.testing as tm\n"
     ]
    }
   ],
   "source": [
    "# Импортируем библиотеки, сначала те, что используются в BaseLine\n",
    "# Если будем применять другие алгоритмы МО, добавим их\n",
    "import pandas as pd\n",
    "import numpy as np\n",
    "import matplotlib.pyplot as plt\n",
    "import seaborn as sns\n",
    "import sys\n",
    "from sklearn.model_selection import train_test_split\n",
    "from sklearn.model_selection import KFold\n",
    "from tqdm.notebook import tqdm\n",
    "from catboost import CatBoostRegressor\n",
    "from sklearn.feature_extraction.text import CountVectorizer\n",
    "import re\n",
    "from sklearn.cluster import DBSCAN\n",
    "from sklearn.metrics import mean_squared_error, r2_score, mean_absolute_error\n",
    "import rds_5_preproc as preproc\n",
    "import json\n",
    "RANDOM_SEED = 42"
   ]
  },
  {
   "cell_type": "code",
   "execution_count": 6,
   "metadata": {},
   "outputs": [
    {
     "name": "stdout",
     "output_type": "stream",
     "text": [
      "<class 'pandas.core.frame.DataFrame'>\n",
      "RangeIndex: 3837 entries, 0 to 3836\n",
      "Data columns (total 23 columns):\n",
      " #   Column                Non-Null Count  Dtype  \n",
      "---  ------                --------------  -----  \n",
      " 0   bodyType              3837 non-null   object \n",
      " 1   brand                 3837 non-null   object \n",
      " 2   color                 3837 non-null   object \n",
      " 3   fuelType              3837 non-null   object \n",
      " 4   modelDate             3837 non-null   float64\n",
      " 5   name                  3837 non-null   object \n",
      " 6   numberOfDoors         3837 non-null   float64\n",
      " 7   productionDate        3837 non-null   float64\n",
      " 8   vehicleConfiguration  3837 non-null   object \n",
      " 9   vehicleTransmission   3837 non-null   object \n",
      " 10  engineDisplacement    3837 non-null   object \n",
      " 11  enginePower           3837 non-null   object \n",
      " 12  description           3837 non-null   object \n",
      " 13  mileage               3837 non-null   float64\n",
      " 14  Комплектация          3837 non-null   object \n",
      " 15  Привод                3837 non-null   object \n",
      " 16  Руль                  3837 non-null   object \n",
      " 17  Состояние             3837 non-null   object \n",
      " 18  Владельцы             3837 non-null   object \n",
      " 19  ПТС                   3837 non-null   object \n",
      " 20  Таможня               3837 non-null   object \n",
      " 21  Владение              1753 non-null   object \n",
      " 22  id                    3837 non-null   int64  \n",
      "dtypes: float64(4), int64(1), object(18)\n",
      "memory usage: 689.6+ KB\n"
     ]
    }
   ],
   "source": [
    "test = pd.read_csv('test.csv')\n",
    "test.info()"
   ]
  },
  {
   "cell_type": "code",
   "execution_count": 7,
   "metadata": {},
   "outputs": [
    {
     "data": {
      "text/html": [
       "<div>\n",
       "<style scoped>\n",
       "    .dataframe tbody tr th:only-of-type {\n",
       "        vertical-align: middle;\n",
       "    }\n",
       "\n",
       "    .dataframe tbody tr th {\n",
       "        vertical-align: top;\n",
       "    }\n",
       "\n",
       "    .dataframe thead th {\n",
       "        text-align: right;\n",
       "    }\n",
       "</style>\n",
       "<table border=\"1\" class=\"dataframe\">\n",
       "  <thead>\n",
       "    <tr style=\"text-align: right;\">\n",
       "      <th></th>\n",
       "      <th>body_type</th>\n",
       "      <th>mark</th>\n",
       "      <th>color</th>\n",
       "      <th>fuel_type</th>\n",
       "      <th>model_date</th>\n",
       "      <th>name</th>\n",
       "      <th>number_of_doors</th>\n",
       "      <th>production_date</th>\n",
       "      <th>configuration</th>\n",
       "      <th>transmission</th>\n",
       "      <th>engine_displacement</th>\n",
       "      <th>engine_power</th>\n",
       "      <th>description</th>\n",
       "      <th>mileage</th>\n",
       "      <th>package</th>\n",
       "      <th>drive</th>\n",
       "      <th>steer</th>\n",
       "      <th>condition</th>\n",
       "      <th>owners</th>\n",
       "      <th>pts</th>\n",
       "      <th>customs</th>\n",
       "      <th>ownership</th>\n",
       "      <th>id</th>\n",
       "    </tr>\n",
       "  </thead>\n",
       "  <tbody>\n",
       "    <tr>\n",
       "      <th>0</th>\n",
       "      <td>седан</td>\n",
       "      <td>BMW</td>\n",
       "      <td>чёрный</td>\n",
       "      <td>дизель</td>\n",
       "      <td>2016.0</td>\n",
       "      <td>520d 2.0d AT (190 л.с.)</td>\n",
       "      <td>4.0</td>\n",
       "      <td>2017.0</td>\n",
       "      <td>SEDAN AUTOMATIC 2.0</td>\n",
       "      <td>автоматическая</td>\n",
       "      <td>2.0 LTR</td>\n",
       "      <td>190 N12</td>\n",
       "      <td>В РОЛЬФ Ясенево представлено более 500 автомоб...</td>\n",
       "      <td>158836.0</td>\n",
       "      <td>['[{\"name\":\"Безопасность\",\"values\":[\"Антипробу...</td>\n",
       "      <td>задний</td>\n",
       "      <td>Левый</td>\n",
       "      <td>Не требует ремонта</td>\n",
       "      <td>1 владелец</td>\n",
       "      <td>Оригинал</td>\n",
       "      <td>Растаможен</td>\n",
       "      <td>NaN</td>\n",
       "      <td>0</td>\n",
       "    </tr>\n",
       "    <tr>\n",
       "      <th>1</th>\n",
       "      <td>седан</td>\n",
       "      <td>BMW</td>\n",
       "      <td>белый</td>\n",
       "      <td>дизель</td>\n",
       "      <td>2018.0</td>\n",
       "      <td>318d 2.0d AT (150 л.с.)</td>\n",
       "      <td>4.0</td>\n",
       "      <td>2019.0</td>\n",
       "      <td>SEDAN AUTOMATIC 2.0</td>\n",
       "      <td>автоматическая</td>\n",
       "      <td>2.0 LTR</td>\n",
       "      <td>150 N12</td>\n",
       "      <td>Автомобиль из демонстрационного парка по спец ...</td>\n",
       "      <td>10.0</td>\n",
       "      <td>['[{\"name\":\"Комфорт\",\"values\":[\"Круиз-контроль...</td>\n",
       "      <td>задний</td>\n",
       "      <td>Левый</td>\n",
       "      <td>Не требует ремонта</td>\n",
       "      <td>1 владелец</td>\n",
       "      <td>Оригинал</td>\n",
       "      <td>Растаможен</td>\n",
       "      <td>NaN</td>\n",
       "      <td>1</td>\n",
       "    </tr>\n",
       "    <tr>\n",
       "      <th>2</th>\n",
       "      <td>седан</td>\n",
       "      <td>BMW</td>\n",
       "      <td>синий</td>\n",
       "      <td>бензин</td>\n",
       "      <td>2009.0</td>\n",
       "      <td>550i xDrive 4.4 AT (407 л.с.) 4WD</td>\n",
       "      <td>4.0</td>\n",
       "      <td>2012.0</td>\n",
       "      <td>SEDAN AUTOMATIC 4.4</td>\n",
       "      <td>автоматическая</td>\n",
       "      <td>4.4 LTR</td>\n",
       "      <td>407 N12</td>\n",
       "      <td>Машина собиралась под заказ! \\n\\n</td>\n",
       "      <td>120000.0</td>\n",
       "      <td>['[{\"name\":\"Комфорт\",\"values\":[\"Круиз-контроль...</td>\n",
       "      <td>полный</td>\n",
       "      <td>Левый</td>\n",
       "      <td>Не требует ремонта</td>\n",
       "      <td>2 владельца</td>\n",
       "      <td>Оригинал</td>\n",
       "      <td>Растаможен</td>\n",
       "      <td>7 лет и 2 месяца</td>\n",
       "      <td>2</td>\n",
       "    </tr>\n",
       "    <tr>\n",
       "      <th>3</th>\n",
       "      <td>внедорожник 5 дв.</td>\n",
       "      <td>BMW</td>\n",
       "      <td>белый</td>\n",
       "      <td>дизель</td>\n",
       "      <td>2014.0</td>\n",
       "      <td>30d 3.0d AT (249 л.с.) 4WD</td>\n",
       "      <td>5.0</td>\n",
       "      <td>2015.0</td>\n",
       "      <td>ALLROAD_5_DOORS AUTOMATIC 3.0</td>\n",
       "      <td>автоматическая</td>\n",
       "      <td>3.0 LTR</td>\n",
       "      <td>249 N12</td>\n",
       "      <td>АВТОМОБИЛЬ В БЕЗУПРЕЧНОМ ВНЕШНЕМ И ТЕХНИЧЕСКОМ...</td>\n",
       "      <td>111466.0</td>\n",
       "      <td>['[{\"name\":\"Комфорт\",\"values\":[\"Круиз-контроль...</td>\n",
       "      <td>полный</td>\n",
       "      <td>Левый</td>\n",
       "      <td>Не требует ремонта</td>\n",
       "      <td>2 владельца</td>\n",
       "      <td>Оригинал</td>\n",
       "      <td>Растаможен</td>\n",
       "      <td>NaN</td>\n",
       "      <td>3</td>\n",
       "    </tr>\n",
       "    <tr>\n",
       "      <th>4</th>\n",
       "      <td>внедорожник 5 дв.</td>\n",
       "      <td>BMW</td>\n",
       "      <td>синий</td>\n",
       "      <td>дизель</td>\n",
       "      <td>2014.0</td>\n",
       "      <td>M50d 3.0d AT (381 л.с.) 4WD</td>\n",
       "      <td>5.0</td>\n",
       "      <td>2019.0</td>\n",
       "      <td>ALLROAD_5_DOORS AUTOMATIC 3.0</td>\n",
       "      <td>автоматическая</td>\n",
       "      <td>3.0 LTR</td>\n",
       "      <td>381 N12</td>\n",
       "      <td>Автомобиль не имеет собственников ( физ. лиц) ...</td>\n",
       "      <td>11891.0</td>\n",
       "      <td>['[{\"name\":\"Комфорт\",\"values\":[\"Круиз-контроль...</td>\n",
       "      <td>полный</td>\n",
       "      <td>Левый</td>\n",
       "      <td>Не требует ремонта</td>\n",
       "      <td>1 владелец</td>\n",
       "      <td>Оригинал</td>\n",
       "      <td>Растаможен</td>\n",
       "      <td>NaN</td>\n",
       "      <td>4</td>\n",
       "    </tr>\n",
       "  </tbody>\n",
       "</table>\n",
       "</div>"
      ],
      "text/plain": [
       "           body_type mark   color fuel_type  model_date  \\\n",
       "0              седан  BMW  чёрный    дизель      2016.0   \n",
       "1              седан  BMW   белый    дизель      2018.0   \n",
       "2              седан  BMW   синий    бензин      2009.0   \n",
       "3  внедорожник 5 дв.  BMW   белый    дизель      2014.0   \n",
       "4  внедорожник 5 дв.  BMW   синий    дизель      2014.0   \n",
       "\n",
       "                                name  number_of_doors  production_date  \\\n",
       "0            520d 2.0d AT (190 л.с.)              4.0           2017.0   \n",
       "1            318d 2.0d AT (150 л.с.)              4.0           2019.0   \n",
       "2  550i xDrive 4.4 AT (407 л.с.) 4WD              4.0           2012.0   \n",
       "3         30d 3.0d AT (249 л.с.) 4WD              5.0           2015.0   \n",
       "4        M50d 3.0d AT (381 л.с.) 4WD              5.0           2019.0   \n",
       "\n",
       "                   configuration    transmission engine_displacement  \\\n",
       "0            SEDAN AUTOMATIC 2.0  автоматическая             2.0 LTR   \n",
       "1            SEDAN AUTOMATIC 2.0  автоматическая             2.0 LTR   \n",
       "2            SEDAN AUTOMATIC 4.4  автоматическая             4.4 LTR   \n",
       "3  ALLROAD_5_DOORS AUTOMATIC 3.0  автоматическая             3.0 LTR   \n",
       "4  ALLROAD_5_DOORS AUTOMATIC 3.0  автоматическая             3.0 LTR   \n",
       "\n",
       "  engine_power                                        description   mileage  \\\n",
       "0      190 N12  В РОЛЬФ Ясенево представлено более 500 автомоб...  158836.0   \n",
       "1      150 N12  Автомобиль из демонстрационного парка по спец ...      10.0   \n",
       "2      407 N12                  Машина собиралась под заказ! \\n\\n  120000.0   \n",
       "3      249 N12  АВТОМОБИЛЬ В БЕЗУПРЕЧНОМ ВНЕШНЕМ И ТЕХНИЧЕСКОМ...  111466.0   \n",
       "4      381 N12  Автомобиль не имеет собственников ( физ. лиц) ...   11891.0   \n",
       "\n",
       "                                             package   drive  steer  \\\n",
       "0  ['[{\"name\":\"Безопасность\",\"values\":[\"Антипробу...  задний  Левый   \n",
       "1  ['[{\"name\":\"Комфорт\",\"values\":[\"Круиз-контроль...  задний  Левый   \n",
       "2  ['[{\"name\":\"Комфорт\",\"values\":[\"Круиз-контроль...  полный  Левый   \n",
       "3  ['[{\"name\":\"Комфорт\",\"values\":[\"Круиз-контроль...  полный  Левый   \n",
       "4  ['[{\"name\":\"Комфорт\",\"values\":[\"Круиз-контроль...  полный  Левый   \n",
       "\n",
       "            condition       owners       pts     customs         ownership  id  \n",
       "0  Не требует ремонта   1 владелец  Оригинал  Растаможен               NaN   0  \n",
       "1  Не требует ремонта   1 владелец  Оригинал  Растаможен               NaN   1  \n",
       "2  Не требует ремонта  2 владельца  Оригинал  Растаможен  7 лет и 2 месяца   2  \n",
       "3  Не требует ремонта  2 владельца  Оригинал  Растаможен               NaN   3  \n",
       "4  Не требует ремонта   1 владелец  Оригинал  Растаможен               NaN   4  "
      ]
     },
     "execution_count": 7,
     "metadata": {},
     "output_type": "execute_result"
    }
   ],
   "source": [
    "test.columns=['body_type', 'mark', 'color', 'fuel_type', 'model_date', 'name',\n",
    "       'number_of_doors', 'production_date', 'configuration',\n",
    "       'transmission', 'engine_displacement', 'engine_power',\n",
    "       'description', 'mileage', 'package', 'drive', 'steer', 'condition',\n",
    "       'owners', 'pts', 'customs', 'ownership', 'id']\n",
    "pd.set_option('display.max_columns', 25)\n",
    "test.head()"
   ]
  },
  {
   "cell_type": "code",
   "execution_count": 8,
   "metadata": {},
   "outputs": [
    {
     "name": "stdout",
     "output_type": "stream",
     "text": [
      "<class 'pandas.core.frame.DataFrame'>\n",
      "Int64Index: 90794 entries, 0 to 90793\n",
      "Data columns (total 27 columns):\n",
      " #   Column               Non-Null Count  Dtype  \n",
      "---  ------               --------------  -----  \n",
      " 0   body_type            90792 non-null  object \n",
      " 1   body_type_add        90792 non-null  object \n",
      " 2   color_hex            90794 non-null  object \n",
      " 3   condition            90794 non-null  float64\n",
      " 4   customs              90794 non-null  float64\n",
      " 5   description          86984 non-null  object \n",
      " 6   drive                90791 non-null  object \n",
      " 7   engine_displacement  90791 non-null  float64\n",
      " 8   engine_power         90791 non-null  float64\n",
      " 9   fuel_type            90791 non-null  object \n",
      " 10  loc_add              90794 non-null  object \n",
      " 11  location             90794 non-null  object \n",
      " 12  mark                 90794 non-null  object \n",
      " 13  mileage              90794 non-null  float64\n",
      " 14  model_date           90792 non-null  float64\n",
      " 15  model_date_add       81769 non-null  float64\n",
      " 16  name                 90791 non-null  object \n",
      " 17  number_of_doors      90792 non-null  float64\n",
      " 18  owners               90785 non-null  float64\n",
      " 19  package              90794 non-null  object \n",
      " 20  price                90435 non-null  float64\n",
      " 21  production_date      90794 non-null  float64\n",
      " 22  pts                  90789 non-null  object \n",
      " 23  steer                90794 non-null  object \n",
      " 24  transmission         90791 non-null  object \n",
      " 25  purchase_date        34356 non-null  object \n",
      " 26  rating               82924 non-null  float64\n",
      "dtypes: float64(12), object(15)\n",
      "memory usage: 19.4+ MB\n"
     ]
    }
   ],
   "source": [
    "train =pd.read_csv('auto_ru_all.csv', index_col=0)\n",
    "# https://drive.google.com/file/d/1SQn4gi2Ip6hoO8Uaa0ahGepq5SHV8rpK/view?usp=sharing\n",
    "train.info()"
   ]
  },
  {
   "cell_type": "markdown",
   "metadata": {},
   "source": [
    "Поскольку тестовый сет содержит только BMW, было очевидно, что полезность информации по остальным маркам неочевидна с т.з. собственно спортивного результата, при том, что в рамках более общей задачи, эта информация является важной.\n",
    "Изначально были скачаны предложения по всем маркам сразу, но с учетом высказанных соображений датасет был облегчен путем удаления мало представленных и откровенно экзотических марок, а также отечественного автопрома."
   ]
  },
  {
   "cell_type": "code",
   "execution_count": 9,
   "metadata": {},
   "outputs": [],
   "source": [
    "core_brands = ['AUDI', 'BMW', 'CHEVROLET', 'CITROEN', 'DAEWOO', 'FORD', 'HONDA',\n",
    "       'HYUNDAI', 'KIA', 'LAND_ROVER', 'LEXUS', 'MAZDA', 'MERCEDES',\n",
    "       'MITSUBISHI', 'NISSAN', 'OPEL', 'PEUGEOT', 'RENAULT', 'SKODA',\n",
    "       'TOYOTA', 'VOLKSWAGEN', 'VOLVO']\n",
    "train = train[train.mark.isin(core_brands)]"
   ]
  },
  {
   "cell_type": "markdown",
   "metadata": {},
   "source": [
    "Довольно быстро стало ясно, что растаможка и неаварийное состояние являются константами в обоих сетах, и нет необходимости к ним обращаться. Также быстро отпала необходимость в технических полях. "
   ]
  },
  {
   "cell_type": "code",
   "execution_count": 10,
   "metadata": {},
   "outputs": [
    {
     "name": "stdout",
     "output_type": "stream",
     "text": [
      "[1904.0, 1908.0, 1927.0, 1932.0, 1934.0, 1935.0, 1936.0, 1937.0, 1938.0, 1948.0, 1949.0, 1950.0, 1951.0, 1953.0, 1955.0, 1956.0, 1957.0, 1958.0, 1959.0, 1960.0, 1961.0, 1963.0, 1964.0, 1965.0, 1966.0, 1967.0, 1968.0, 1969.0, 1970.0, 1971.0, 1972.0, 1973.0, 1974.0, 1975.0, 1976.0, 1977.0, 1978.0, 1979.0, 1980.0, 1981.0, 1982.0, 1983.0, 1984.0, 1985.0, 1986.0, 1987.0, 1988.0, 1989.0, 1990.0, 1991.0, 1992.0, 1993.0, 1994.0, 1995.0, 1996.0, 1997.0, 1998.0, 1999.0, 2000.0, 2001.0, 2002.0, 2003.0, 2004.0, 2005.0, 2006.0, 2007.0, 2008.0, 2009.0, 2010.0, 2011.0, 2012.0, 2013.0, 2014.0, 2015.0, 2016.0, 2017.0, 2018.0, 2019.0, nan, 2020.0]\n"
     ]
    }
   ],
   "source": [
    "print(sorted(train.model_date.unique()))"
   ]
  },
  {
   "cell_type": "markdown",
   "metadata": {},
   "source": [
    "На ранних этапах также было ясно, что начиная с определенного возраста машины начинают котироваться по совершенно другим принциипам, и в дело вступают критерии, не формализуемые по используемой сетке. Учитывая, что в тестовый сет в глубь времен идет всего до 1981 года, было принято решение ограничить диапазон снизу, как минимум 1975 годом.\n"
   ]
  },
  {
   "cell_type": "code",
   "execution_count": 11,
   "metadata": {},
   "outputs": [],
   "source": [
    "train = train[train.production_date > 1975]\n"
   ]
  },
  {
   "cell_type": "markdown",
   "metadata": {},
   "source": [
    "Разумеется, нет никакого смысла использовать записи, в которых не указана цена. "
   ]
  },
  {
   "cell_type": "code",
   "execution_count": 12,
   "metadata": {},
   "outputs": [],
   "source": [
    "train.dropna(subset=['price'], inplace=True)"
   ]
  },
  {
   "cell_type": "markdown",
   "metadata": {},
   "source": [
    "И нам не нужны дубликаты. Явных дубликатов не так уж много, если смотреть относительно общей массы. Надо полагать, auto.ru довольно хорошо борется со спаммерами."
   ]
  },
  {
   "cell_type": "code",
   "execution_count": 13,
   "metadata": {},
   "outputs": [
    {
     "name": "stdout",
     "output_type": "stream",
     "text": [
      "552\n"
     ]
    }
   ],
   "source": [
    "print(train[[x for x in train.columns if x != 'description']].duplicated().sum())\n",
    "train.drop_duplicates(subset=[x for x in train.columns if x != 'description'], inplace=True)"
   ]
  },
  {
   "cell_type": "code",
   "execution_count": 14,
   "metadata": {},
   "outputs": [
    {
     "data": {
      "image/png": "[encoded data removed]",
      "text/plain": [
       "<Figure size 864x288 with 2 Axes>"
      ]
     },
     "metadata": {
      "needs_background": "light"
     },
     "output_type": "display_data"
    }
   ],
   "source": [
    "\n",
    "import rds_5_preproc as preproc\n",
    "preproc.hist_and_box(train.price)\n",
    "\n"
   ]
  },
  {
   "cell_type": "markdown",
   "metadata": {},
   "source": [
    "Распределение цен крайне несимметрично, но если логарифмировать, то все будет ОК."
   ]
  },
  {
   "cell_type": "code",
   "execution_count": 15,
   "metadata": {},
   "outputs": [
    {
     "data": {
      "image/png": "[encoded data removed]",
      "text/plain": [
       "<Figure size 864x288 with 2 Axes>"
      ]
     },
     "metadata": {
      "needs_background": "light"
     },
     "output_type": "display_data"
    }
   ],
   "source": [
    "preproc.hist_and_box(np.log(train.price))"
   ]
  },
  {
   "cell_type": "code",
   "execution_count": 16,
   "metadata": {},
   "outputs": [],
   "source": [
    "#Поскольку есть еще вопрос точности вычислений, логарфмируем с масштабированием, чтобы не терять \"хвосты\"\n",
    "train['price_log'] = np.log(train.price)*10000"
   ]
  },
  {
   "cell_type": "code",
   "execution_count": 17,
   "metadata": {},
   "outputs": [
    {
     "data": {
      "image/png": "[encoded data removed]",
      "text/plain": [
       "<Figure size 864x288 with 2 Axes>"
      ]
     },
     "metadata": {
      "needs_background": "light"
     },
     "output_type": "display_data"
    }
   ],
   "source": [
    "preproc.hist_and_box(train.mileage)"
   ]
  },
  {
   "cell_type": "code",
   "execution_count": 18,
   "metadata": {},
   "outputs": [
    {
     "data": {
      "image/png": "[encoded data removed]",
      "text/plain": [
       "<Figure size 864x288 with 2 Axes>"
      ]
     },
     "metadata": {
      "needs_background": "light"
     },
     "output_type": "display_data"
    }
   ],
   "source": [
    "preproc.hist_and_box(test.mileage)"
   ]
  },
  {
   "cell_type": "markdown",
   "metadata": {},
   "source": [
    "Машины с экстремальным пробегом тоже могут давать какой угодно разнос в ценообразовании, хотя бы в силу разного соотношения \"родных\" и замененных частей (и разного происхождения последних). Имеет смысл хотя бы поджать диапазон до 600 тыс. км.\n"
   ]
  },
  {
   "cell_type": "code",
   "execution_count": 19,
   "metadata": {},
   "outputs": [],
   "source": [
    "train = train[train.mileage<600000]"
   ]
  },
  {
   "cell_type": "code",
   "execution_count": 20,
   "metadata": {},
   "outputs": [
    {
     "name": "stdout",
     "output_type": "stream",
     "text": [
      "<class 'pandas.core.frame.DataFrame'>\n",
      "Int64Index: 70282 entries, 193 to 88030\n",
      "Data columns (total 28 columns):\n",
      " #   Column               Non-Null Count  Dtype  \n",
      "---  ------               --------------  -----  \n",
      " 0   body_type            70281 non-null  object \n",
      " 1   body_type_add        70281 non-null  object \n",
      " 2   color_hex            70282 non-null  object \n",
      " 3   condition            70282 non-null  float64\n",
      " 4   customs              70282 non-null  float64\n",
      " 5   description          67304 non-null  object \n",
      " 6   drive                70281 non-null  object \n",
      " 7   engine_displacement  70281 non-null  float64\n",
      " 8   engine_power         70281 non-null  float64\n",
      " 9   fuel_type            70281 non-null  object \n",
      " 10  loc_add              70282 non-null  object \n",
      " 11  location             70282 non-null  object \n",
      " 12  mark                 70282 non-null  object \n",
      " 13  mileage              70282 non-null  float64\n",
      " 14  model_date           70281 non-null  float64\n",
      " 15  model_date_add       64597 non-null  float64\n",
      " 16  name                 70281 non-null  object \n",
      " 17  number_of_doors      70281 non-null  float64\n",
      " 18  owners               70273 non-null  float64\n",
      " 19  package              70282 non-null  object \n",
      " 20  price                70282 non-null  float64\n",
      " 21  production_date      70282 non-null  float64\n",
      " 22  pts                  70278 non-null  object \n",
      " 23  steer                70282 non-null  object \n",
      " 24  transmission         70281 non-null  object \n",
      " 25  purchase_date        26646 non-null  object \n",
      " 26  rating               64323 non-null  float64\n",
      " 27  price_log            70282 non-null  float64\n",
      "dtypes: float64(13), object(15)\n",
      "memory usage: 15.6+ MB\n"
     ]
    }
   ],
   "source": [
    "train.info()"
   ]
  },
  {
   "cell_type": "markdown",
   "metadata": {},
   "source": [
    "Несмотря на то, что оба датасета происходят из auto.ru, ряд параметров в них присутствует в разных вариантах. Это обусловлено методом парсинга, который получает данные в виде записей БД, а в тестовом сете они содержатся в виде, в котором их интерпретирует фронтенд. Поскольку в трейне различных значений априори больше, мы будем \"приводить к общему знаменателю\" тест."
   ]
  },
  {
   "cell_type": "code",
   "execution_count": 21,
   "metadata": {},
   "outputs": [],
   "source": [
    "\n",
    "\n",
    "\n",
    "test['color_hex']= test.color.map({'чёрный':'040001',\n",
    "                                       'белый':'FAFBFB',\n",
    "                                       'синий':'0000CC',\n",
    "                                       'серый':'97948F',\n",
    "                                       'коричневый':'200204',\n",
    "                                       'серебристый':'CACECB',\n",
    "                                       'красный':'EE1D19',\n",
    "                                       'бежевый':'C49648',\n",
    "                                       'голубой':'22A0F8',\n",
    "                                       'зелёный':'007F00',\n",
    "                                       'оранжевый':'FF8649',\n",
    "                                       'золотистый':'DEA522',\n",
    "                                       'пурпурный':'660099',\n",
    "                                       'фиолетовый':'4A2197',\n",
    "                                       'жёлтый':'FFD600',\n",
    "                                      })\n",
    "\n",
    "test.body_type = test.body_type.map({'внедорожник 5 дв.':'ALLROAD_5_DOORS',\n",
    "                                   'седан':'SEDAN',\n",
    "                                   'купе':'COUPE',\n",
    "                                   'хэтчбек 5 дв.':'HATCHBACK_5_DOORS',\n",
    "                                   'лифтбек':'LIFTBACK',\n",
    "                                   'универсал 5 дв.':'WAGON_5_DOORS',\n",
    "                                   'хэтчбек 3 дв.':'HATCHBACK_3_DOORS',\n",
    "                                   'кабриолет':'CABRIO',\n",
    "                                   'родстер':'ROADSTER',\n",
    "                                   'компактвэн':'COMPACTVAN',\n",
    "                                   'седан 2 дв.':'SEDAN_2_DOORS',\n",
    "                                  })\n",
    "    \n",
    "test.fuel_type = test.fuel_type.map({'бензин':'GASOLINE',\n",
    "                                   'дизель':'DIESEL',\n",
    "                                   'гибрид':'HYBRID',\n",
    "                                   'электро':'ELECTRO',\n",
    "                                  })\n",
    "test.transmission = test.transmission.map({'автоматическая':'AUTOMATIC',\n",
    "                                              'механическая':'MECHANICAL',\n",
    "                                              'роботизированная':'ROBOT',\n",
    "                                               })\n",
    "test.drive = test.drive.map({'полный':'ALL_WHEEL_DRIVE',\n",
    "                                   'задний':'REAR_DRIVE',\n",
    "                                   'передний':'FORWARD_CONTROL'\n",
    "                                  })\n",
    "\n",
    "\n",
    "test.pts = test.pts.map({'Оригинал':'ORIGINAL','Дубликат':'DUPLICATE'})\n",
    "    \n",
    "def engine_displacement(x):\n",
    "    vol = x.split(' ')[0]\n",
    "    try:\n",
    "        return int(float(vol)*1000)\n",
    "    except:\n",
    "        return 0\n",
    "    \n",
    "test.engine_displacement = test.engine_displacement.apply(engine_displacement)\n",
    "    \n",
    "def engine_power(x):\n",
    "    return int (x.split(' ')[0])\n",
    "      \n",
    "    \n",
    "test.engine_power = test.engine_power.apply(engine_power)    \n",
    "\n",
    "\n",
    "test.owners = test.owners.apply(lambda x: x[0]).astype(int)"
   ]
  },
  {
   "cell_type": "markdown",
   "metadata": {},
   "source": [
    "Проделав эту операцию, можно двигаться дальше по признакам, работая уже с обоими сетами.\n",
    "\n",
    "Ценная, но далеко не всегда наличествующая информация - срок владения машиной последним владельцем. Надо отметить, что признак этот взаимосвязан с возрастом самого автомобиля, т.е. с какого-то момента не важно 4 или 5 лет. Сайт auto.ru делит срок на три категории - меньше года, от года до трех и больше трех. Вполне разумным будет следовать этому же принципу."
   ]
  },
  {
   "cell_type": "code",
   "execution_count": 22,
   "metadata": {},
   "outputs": [],
   "source": [
    "from datetime import datetime as dt\n",
    "\n",
    "\n",
    "def calc_ownership(date):\n",
    "    try:\n",
    "        ym = date.split(',')\n",
    "        year = int(ym[0].split(': ')[1])\n",
    "        mnth = int(ym[1].split(': ')[1][:-1])\n",
    "        year_now = dt.now().year\n",
    "        month_now = dt.now().month\n",
    "        \n",
    "        dy = year_now-year\n",
    "        dm = month_now - mnth\n",
    "        \n",
    "        if dy == 0:\n",
    "            return 'LE_1'\n",
    "        if 12 * dy + dm > 36:\n",
    "            return 'GR_3'\n",
    "        return 'LE_3'\n",
    "    except:\n",
    "        return 'NA'\n",
    "    return 'NA'\n",
    "    \n",
    "train['ownership'] = train.purchase_date.apply(calc_ownership)\n",
    "\n"
   ]
  },
  {
   "cell_type": "code",
   "execution_count": 23,
   "metadata": {},
   "outputs": [],
   "source": [
    "def test_ownership(x):\n",
    "    \n",
    "    try:\n",
    "        y_str = re.findall(r'\\d+ лет|\\d+ год', x)[0].split(' ')[0]\n",
    "        \n",
    "        years=int(y_str)\n",
    "    except:\n",
    "        years = 0\n",
    "\n",
    "    try:\n",
    "        m_str = re.findall(r'\\d+ мес', x)[0].split(' ')[0]\n",
    "        \n",
    "        months = int(m_str)\n",
    "    except:\n",
    "        months = 0\n",
    "        \n",
    "    if years+months == 0:\n",
    "        return 'NA'\n",
    "    if years == 0:\n",
    "        return 'LE_1'\n",
    "    if years * 12 + months < 36:\n",
    "       \n",
    "        return 'LE_3'\n",
    "    return 'GR_3'\n",
    "\n",
    "test.ownership = test.ownership.apply(test_ownership)"
   ]
  },
  {
   "cell_type": "markdown",
   "metadata": {},
   "source": [
    "В отношении возраста модели и конкретного экземпляра, логично оперировать не датами, а именно возрастом. Поскольку есть разница между датировками теста и трейна, могла иметь смысл коррекция возраста у теста. Но практика показала, что единообразие дает более точный результат, особенно с учетом того, что все равно приходится делать коррекцию предсказаний с поправкой на курс рубля/инфляцию.\n"
   ]
  },
  {
   "cell_type": "code",
   "execution_count": 24,
   "metadata": {},
   "outputs": [],
   "source": [
    "for i, df in enumerate((train, test)):\n",
    "    df['age'] = 2020 - df.production_date\n",
    "    df['model_age'] = 2020 - df.model_date \n"
   ]
  },
  {
   "cell_type": "markdown",
   "metadata": {},
   "source": [
    "Теперь займемся  комплектацией в обоих сетах.\n",
    "Будем использовать русские термины, потому что так проще осмысленно работать с признаками.\n",
    "\n",
    "Сначала обработаем трейн, потом сгенерируем для начала простые бинарные признаки по каждому элементу комплектации. Словарь фич комплектации большой, поэтому вынесен в отдельный модуль для утилит."
   ]
  },
  {
   "cell_type": "code",
   "execution_count": 25,
   "metadata": {},
   "outputs": [],
   "source": [
    "def parse_package(x):\n",
    "    try:\n",
    "        y= x.replace('\\'','\"').replace('True','\"True\"')\n",
    "        feats = list(json.loads(y).keys())\n",
    "        return [preproc.feat_dict[key] for key in feats if key in preproc.feat_dict.keys()]\n",
    "    except:\n",
    "        print(feats)\n",
    "        return []\n",
    "    \n",
    "train['package_list']=train.package.apply(parse_package)\n"
   ]
  },
  {
   "cell_type": "code",
   "execution_count": 26,
   "metadata": {},
   "outputs": [],
   "source": [
    "all_feats = list(set(preproc.feat_dict.values()))\n",
    "for col in all_feats:\n",
    "    train[col] = train.package_list.apply(lambda x: int(col in x))\n",
    "    test[col] = test.package.apply(lambda x: int(col in x))"
   ]
  },
  {
   "cell_type": "markdown",
   "metadata": {},
   "source": [
    "### 2. Работа с фичами\n",
    "\n",
    "Часть признаков комплектации может быть организована в группы, элементы которых либо взаимоисключающие (\"или А или В или ничего\"), либо являются признаками более высокого уровня комплектации (подразумевающими наличие более низких). Эта работа велась в Excel, и загружается ее результат."
   ]
  },
  {
   "cell_type": "code",
   "execution_count": 27,
   "metadata": {},
   "outputs": [],
   "source": [
    "cat_feats = pd.read_csv('cat_feats.csv', sep=';',encoding='cp1251')"
   ]
  },
  {
   "cell_type": "code",
   "execution_count": 28,
   "metadata": {},
   "outputs": [
    {
     "name": "stdout",
     "output_type": "stream",
     "text": [
      "wheel_size\n",
      "steer_adjustment\n",
      "seats\n",
      "climate\n",
      "lining\n",
      "seats_adjustment\n",
      "seat_heat_vent\n",
      "spare_wheel\n",
      "third_row\n",
      "elec_windows\n"
     ]
    }
   ],
   "source": [
    "def category_col (x, cat_name):\n",
    "    for cat_value in cat_feats[cat_name].dropna().unique():\n",
    "        if cat_value in x:\n",
    "            return cat_value\n",
    "        \n",
    "    return 'NA'\n",
    "\n",
    "package_proc = []\n",
    "\n",
    "group_feats = list(cat_feats.columns)\n",
    "\n",
    "for category in group_feats:\n",
    "    print(f'{category}')\n",
    "    train[category]=train.package_list.apply(category_col, args=(category,))\n",
    "    test[category]=test.package.apply(category_col, args=(category,))\n",
    "    package_proc += list(cat_feats[category].dropna().unique())\n"
   ]
  },
  {
   "cell_type": "markdown",
   "metadata": {},
   "source": [
    "Также наличествуют признаки, которые могут быть отнесены к родственной тематике, но не структурируются четко и однозначно. \n",
    "Их пробовали кодировать на комбинации (каждый признак в группе - буква, на выходе наборы типа ('A', 'AC', 'BC', 'BCD') подобным образом:"
   ]
  },
  {
   "cell_type": "code",
   "execution_count": 29,
   "metadata": {},
   "outputs": [
    {
     "data": {
      "text/plain": [
       "array(['AB', 'ABC', '', 'B', 'A', 'AC', 'C', 'BC', 'ABCD', 'ABD', 'AD',\n",
       "       'ACD', 'D', 'BD', 'BCD', 'CD'], dtype=object)"
      ]
     },
     "execution_count": 29,
     "metadata": {},
     "output_type": "execute_result"
    }
   ],
   "source": [
    "secu_feat = ( 'Центральный замок',\n",
    "  \n",
    "'Иммобилайзер',\n",
    "'Датчик проникновения в салон (датчик объема)',\n",
    "'ЭРА-ГЛОНАСС')\n",
    "\n",
    "\n",
    "   \n",
    "\n",
    "def check_feats(feats, df=train.package_list):\n",
    "    codes = tuple('ABCDEFGHIJKLM')[:len(feats)]\n",
    "    coded = dict(zip(feats, codes))\n",
    "    return  df.apply(lambda y: ''.join([coded[x] for x in feats if x in y]))\n",
    "\n",
    "   \n",
    "check_feats(secu_feat).unique()"
   ]
  },
  {
   "cell_type": "markdown",
   "metadata": {},
   "source": [
    "Но результат был заметно хуже негруппированых бинарных признаков.\n",
    "Из интереса и приниципа была сделана попытка структурировать группы при помощи кластеризации"
   ]
  },
  {
   "cell_type": "code",
   "execution_count": 33,
   "metadata": {},
   "outputs": [
    {
     "name": "stdout",
     "output_type": "stream",
     "text": [
      "0.7954441364225069\n"
     ]
    },
    {
     "data": {
      "text/html": [
       "<div>\n",
       "<style scoped>\n",
       "    .dataframe tbody tr th:only-of-type {\n",
       "        vertical-align: middle;\n",
       "    }\n",
       "\n",
       "    .dataframe tbody tr th {\n",
       "        vertical-align: top;\n",
       "    }\n",
       "\n",
       "    .dataframe thead th {\n",
       "        text-align: right;\n",
       "    }\n",
       "</style>\n",
       "<table border=\"1\" class=\"dataframe\">\n",
       "  <thead>\n",
       "    <tr style=\"text-align: right;\">\n",
       "      <th></th>\n",
       "      <th>Подушка безопасности водителя</th>\n",
       "      <th>Подушка безопасности пассажира</th>\n",
       "      <th>Подушки безопасности боковые</th>\n",
       "      <th>Подушки безопасности оконные (шторки)</th>\n",
       "      <th>Подушки безопасности боковые задние</th>\n",
       "      <th>Подушка безопасности для защиты коленей водителя</th>\n",
       "    </tr>\n",
       "    <tr>\n",
       "      <th>airbag_labels</th>\n",
       "      <th></th>\n",
       "      <th></th>\n",
       "      <th></th>\n",
       "      <th></th>\n",
       "      <th></th>\n",
       "      <th></th>\n",
       "    </tr>\n",
       "  </thead>\n",
       "  <tbody>\n",
       "    <tr>\n",
       "      <th>0</th>\n",
       "      <td>827</td>\n",
       "      <td>831</td>\n",
       "      <td>830</td>\n",
       "      <td>462</td>\n",
       "      <td>853</td>\n",
       "      <td>0</td>\n",
       "    </tr>\n",
       "    <tr>\n",
       "      <th>1</th>\n",
       "      <td>264</td>\n",
       "      <td>31</td>\n",
       "      <td>88</td>\n",
       "      <td>0</td>\n",
       "      <td>0</td>\n",
       "      <td>0</td>\n",
       "    </tr>\n",
       "    <tr>\n",
       "      <th>2</th>\n",
       "      <td>822</td>\n",
       "      <td>822</td>\n",
       "      <td>794</td>\n",
       "      <td>829</td>\n",
       "      <td>0</td>\n",
       "      <td>0</td>\n",
       "    </tr>\n",
       "    <tr>\n",
       "      <th>3</th>\n",
       "      <td>755</td>\n",
       "      <td>754</td>\n",
       "      <td>743</td>\n",
       "      <td>694</td>\n",
       "      <td>530</td>\n",
       "      <td>763</td>\n",
       "    </tr>\n",
       "    <tr>\n",
       "      <th>4</th>\n",
       "      <td>1985</td>\n",
       "      <td>1985</td>\n",
       "      <td>1008</td>\n",
       "      <td>0</td>\n",
       "      <td>0</td>\n",
       "      <td>0</td>\n",
       "    </tr>\n",
       "  </tbody>\n",
       "</table>\n",
       "</div>"
      ],
      "text/plain": [
       "               Подушка безопасности водителя  Подушка безопасности пассажира  \\\n",
       "airbag_labels                                                                  \n",
       "0                                        827                             831   \n",
       "1                                        264                              31   \n",
       "2                                        822                             822   \n",
       "3                                        755                             754   \n",
       "4                                       1985                            1985   \n",
       "\n",
       "               Подушки безопасности боковые  \\\n",
       "airbag_labels                                 \n",
       "0                                       830   \n",
       "1                                        88   \n",
       "2                                       794   \n",
       "3                                       743   \n",
       "4                                      1008   \n",
       "\n",
       "               Подушки безопасности оконные (шторки)  \\\n",
       "airbag_labels                                          \n",
       "0                                                462   \n",
       "1                                                  0   \n",
       "2                                                829   \n",
       "3                                                694   \n",
       "4                                                  0   \n",
       "\n",
       "               Подушки безопасности боковые задние  \\\n",
       "airbag_labels                                        \n",
       "0                                              853   \n",
       "1                                                0   \n",
       "2                                                0   \n",
       "3                                              530   \n",
       "4                                                0   \n",
       "\n",
       "               Подушка безопасности для защиты коленей водителя  \n",
       "airbag_labels                                                    \n",
       "0                                                             0  \n",
       "1                                                             0  \n",
       "2                                                             0  \n",
       "3                                                           763  \n",
       "4                                                             0  "
      ]
     },
     "execution_count": 33,
     "metadata": {},
     "output_type": "execute_result"
    }
   ],
   "source": [
    "from sklearn.cluster import DBSCAN\n",
    "from sklearn.mixture import GaussianMixture\n",
    "from sklearn.preprocessing import StandardScaler\n",
    "from sklearn.metrics import silhouette_score\n",
    "\n",
    "airbags = [\n",
    "\n",
    "'Подушка безопасности водителя',\n",
    "'Подушка безопасности пассажира',\n",
    "'Подушки безопасности боковые',   \n",
    "'Подушки безопасности оконные (шторки)',   \n",
    "'Подушки безопасности боковые задние',\n",
    "'Подушка безопасности для защиты коленей водителя'\n",
    "    \n",
    "]\n",
    "\n",
    "pack = train[airbags].copy().sample(n=min((10000, len(train))))\n",
    "X_S = StandardScaler().fit_transform(pack)\n",
    "#model = DBSCAN(eps=0.5, min_samples=35)\n",
    "model = GaussianMixture( n_components=5, random_state=42 )\n",
    "model.fit(X_S)\n",
    "model_pred = model.fit_predict(X_S)\n",
    "print(silhouette_score(X=X_S, labels=model_pred, metric='euclidean'))\n",
    "\n",
    "pack['airbag_labels']=model_pred\n",
    "pack.groupby('airbag_labels')[airbags].sum()"
   ]
  },
  {
   "cell_type": "code",
   "execution_count": 34,
   "metadata": {},
   "outputs": [],
   "source": [
    "train['airbags'] = train[airbags].sum(axis=1).apply(lambda x: x if x > 2 else 0)\n",
    "test ['airbags'] = test[airbags].sum(axis=1).apply(lambda x: x if x > 2 else 0)    "
   ]
  },
  {
   "cell_type": "markdown",
   "metadata": {},
   "source": [
    "Результат был лучше интуитивного подхода, но все равно хуже, простого микса бинарных признаков."
   ]
  },
  {
   "cell_type": "markdown",
   "metadata": {},
   "source": [
    "Для удобства последующих исследовательских манипуляций организуем признаки в \"обоймы\". У нас уже есть - все возможные пункты комплектации, есть отдельный список исходных \"штучных\" фич."
   ]
  },
  {
   "cell_type": "code",
   "execution_count": 35,
   "metadata": {},
   "outputs": [],
   "source": [
    "train_base =  ['mark','body_type', 'color_hex', \n",
    "       'drive', 'engine_displacement', 'engine_power',\n",
    "       'fuel_type', 'mileage', 'model_age',\n",
    "       'name', 'number_of_doors', 'owners', 'ownership',\n",
    "       'age', 'pts',  'steer', 'transmission']"
   ]
  },
  {
   "cell_type": "markdown",
   "metadata": {},
   "source": [
    "На этом этапе почистим для надежности трейн."
   ]
  },
  {
   "cell_type": "code",
   "execution_count": 36,
   "metadata": {},
   "outputs": [],
   "source": [
    "main_set = train_base+all_feats"
   ]
  },
  {
   "cell_type": "code",
   "execution_count": 37,
   "metadata": {},
   "outputs": [],
   "source": [
    "train.dropna(subset=main_set, inplace=True)"
   ]
  },
  {
   "cell_type": "code",
   "execution_count": 38,
   "metadata": {},
   "outputs": [],
   "source": [
    "dups = train[train[main_set+['price']].duplicated() == True].index\n",
    "train = train.drop(index=dups)\n"
   ]
  },
  {
   "cell_type": "code",
   "execution_count": 39,
   "metadata": {},
   "outputs": [],
   "source": [
    "num_cols = ['engine_displacement', 'engine_power', 'mileage','model_age', 'age','owners', 'number_of_doors']\n",
    "train[num_cols] = train[num_cols].astype(int)\n",
    "test[num_cols] = test[num_cols].astype(int)"
   ]
  },
  {
   "cell_type": "markdown",
   "metadata": {},
   "source": [
    "К числовым признакам можно добавить их полиномиальные на их основе."
   ]
  },
  {
   "cell_type": "code",
   "execution_count": 40,
   "metadata": {},
   "outputs": [],
   "source": [
    "from sklearn.preprocessing import PolynomialFeatures\n",
    "\n",
    "poly_features_list = ['engine_displacement', 'engine_power', 'mileage','model_age', 'age','owners']\n",
    "\n",
    "def create_pf(data_frame):\n",
    "    pf = PolynomialFeatures(2, include_bias=False)\n",
    "    poly_features_df = pd.DataFrame(\n",
    "        pf.fit_transform(data_frame[poly_features_list]), \n",
    "        columns=pf.get_feature_names(poly_features_list)\n",
    "    ).drop(poly_features_list, axis=1).astype('int64')\n",
    "    \n",
    "    return data_frame.reset_index(drop=True).merge(poly_features_df, left_index=True, right_index=True)\n",
    "\n",
    "train = create_pf(train)\n",
    "test = create_pf(test)"
   ]
  },
  {
   "cell_type": "code",
   "execution_count": 41,
   "metadata": {},
   "outputs": [],
   "source": [
    "poly_feats = list(train.columns[-21:])\n",
    "num_cols += poly_feats"
   ]
  },
  {
   "cell_type": "markdown",
   "metadata": {},
   "source": [
    "Также была сделана попытка использовать информацию о продавце: частник или дилер и какой именно. Ее нет в явном виде в тесте, но она часто содержится в текстовом описании. На сайте же auto.ru эта информация включена в данные машины. Исследование не включено в итоговый ноутбук в силу громоздкости и того, что признак восстановим был далеко не на полном сете и в итоге сильно снижал точность. Также проверялась возможность \"обогатить\" тест признаком \"средний рейтинг модели на auto.ru\", но он также сильно нижал точность, даже на очень рафинированных данных."
   ]
  },
  {
   "cell_type": "markdown",
   "metadata": {},
   "source": [
    "### 3. Машинное обучение \n",
    "\n",
    "Довольно быстро стало ясно, что обучение только на BMW дает лучший результат, чем на смешанных марках, во всяком случае - при работе от имеющейся базы признаков."
   ]
  },
  {
   "cell_type": "code",
   "execution_count": 42,
   "metadata": {},
   "outputs": [],
   "source": [
    "train = train[train.mark == 'BMW']"
   ]
  },
  {
   "cell_type": "code",
   "execution_count": 43,
   "metadata": {},
   "outputs": [],
   "source": [
    "set_1 = train_base[1:]+all_feats\n",
    "set_2 = train_base[1:]+group_feats\n",
    "set_3 = train_base[1:]+group_feats+list(set(all_feats) - set(package_proc) )\n",
    "set_4 = list(set(set_3) - set(airbags)) + ['airbags'] \n",
    "set_5 = set_1 + poly_feats"
   ]
  },
  {
   "cell_type": "code",
   "execution_count": 44,
   "metadata": {},
   "outputs": [],
   "source": [
    "train=train.reset_index(drop=True)"
   ]
  },
  {
   "cell_type": "code",
   "execution_count": 45,
   "metadata": {},
   "outputs": [],
   "source": [
    "def mape(y_true, y_pred):\n",
    "    return np.mean(np.abs((y_pred-y_true)/y_true))"
   ]
  },
  {
   "cell_type": "code",
   "execution_count": 46,
   "metadata": {},
   "outputs": [],
   "source": [
    "from sklearn.model_selection import train_test_split\n",
    "from sklearn.model_selection import KFold\n",
    "from tqdm.notebook import tqdm\n",
    "from catboost import CatBoostRegressor\n",
    "\n",
    "RANDOM_SEED = 42\n",
    "VAL_SIZE = 0.33\n",
    "\n",
    "ITERATIONS = 2000\n",
    "LR         = 0.1\n",
    "\n",
    "\n",
    "def evaluate(X,y,cat_features):\n",
    "\n",
    "    X_train, X_test, y_train, y_test = train_test_split(X, y, test_size=VAL_SIZE, shuffle=True, random_state=RANDOM_SEED)\n",
    "\n",
    "    model = CatBoostRegressor(iterations = ITERATIONS,\n",
    "                              learning_rate = LR,\n",
    "                              random_seed = RANDOM_SEED,\n",
    "                              eval_metric='MAPE',\n",
    "                              custom_metric=['R2', 'MAE']\n",
    "                             )\n",
    "    model.fit(X_train, y_train,\n",
    "             cat_features=cat_features,\n",
    "             eval_set=(X_test, y_test),\n",
    "             verbose_eval=400,\n",
    "             #verbose = False,     \n",
    "             use_best_model=True,\n",
    "             plot=False\n",
    "             )\n",
    "\n",
    "    total = model.predict(X)\n",
    "    source_price = np.exp(total/10000)\n",
    "    metric = mape(train.price, source_price)\n",
    "    \n",
    "    return model, metric\n",
    "\n"
   ]
  },
  {
   "cell_type": "code",
   "execution_count": 49,
   "metadata": {},
   "outputs": [
    {
     "name": "stdout",
     "output_type": "stream",
     "text": [
      "running 0 :\n",
      "0:\tlearn: 0.0432127\ttest: 0.0431460\tbest: 0.0431460 (0)\ttotal: 77.5ms\tremaining: 2m 34s\n",
      "400:\tlearn: 0.0066289\ttest: 0.0095825\tbest: 0.0095819 (399)\ttotal: 8.78s\tremaining: 35s\n",
      "800:\tlearn: 0.0052011\ttest: 0.0095195\tbest: 0.0094971 (712)\ttotal: 17.2s\tremaining: 25.7s\n",
      "1200:\tlearn: 0.0042236\ttest: 0.0095504\tbest: 0.0094971 (712)\ttotal: 25.7s\tremaining: 17.1s\n",
      "1600:\tlearn: 0.0035858\ttest: 0.0095790\tbest: 0.0094971 (712)\ttotal: 34.3s\tremaining: 8.54s\n",
      "1999:\tlearn: 0.0030969\ttest: 0.0096060\tbest: 0.0094971 (712)\ttotal: 43.3s\tremaining: 0us\n",
      "\n",
      "bestTest = 0.009497108043\n",
      "bestIteration = 712\n",
      "\n",
      "Shrink model to first 713 iterations.\n",
      "metric of 0 is 0.098 \n",
      "\n",
      "running 1 :\n",
      "0:\tlearn: 0.0434425\ttest: 0.0434423\tbest: 0.0434423 (0)\ttotal: 25.9ms\tremaining: 51.8s\n",
      "400:\tlearn: 0.0073309\ttest: 0.0099731\tbest: 0.0099731 (400)\ttotal: 10.1s\tremaining: 40.3s\n",
      "800:\tlearn: 0.0060973\ttest: 0.0098771\tbest: 0.0098730 (792)\ttotal: 20.1s\tremaining: 30.1s\n",
      "1200:\tlearn: 0.0052416\ttest: 0.0098754\tbest: 0.0098658 (842)\ttotal: 30s\tremaining: 20s\n",
      "1600:\tlearn: 0.0045425\ttest: 0.0098787\tbest: 0.0098657 (1368)\ttotal: 39.9s\tremaining: 9.94s\n",
      "1999:\tlearn: 0.0039690\ttest: 0.0098943\tbest: 0.0098657 (1368)\ttotal: 49.7s\tremaining: 0us\n",
      "\n",
      "bestTest = 0.009865708665\n",
      "bestIteration = 1368\n",
      "\n",
      "Shrink model to first 1369 iterations.\n",
      "metric of 1 is 0.103 \n",
      "\n",
      "running 2 :\n",
      "0:\tlearn: 0.0431552\ttest: 0.0432106\tbest: 0.0432106 (0)\ttotal: 27.6ms\tremaining: 55.1s\n",
      "400:\tlearn: 0.0069199\ttest: 0.0097623\tbest: 0.0097589 (368)\ttotal: 10.6s\tremaining: 42.4s\n",
      "800:\tlearn: 0.0056035\ttest: 0.0096264\tbest: 0.0096264 (800)\ttotal: 21.1s\tremaining: 31.6s\n",
      "1200:\tlearn: 0.0047277\ttest: 0.0096528\tbest: 0.0096214 (846)\ttotal: 31.7s\tremaining: 21.1s\n",
      "1600:\tlearn: 0.0040809\ttest: 0.0097193\tbest: 0.0096214 (846)\ttotal: 42.3s\tremaining: 10.5s\n",
      "1999:\tlearn: 0.0035439\ttest: 0.0097562\tbest: 0.0096214 (846)\ttotal: 52.8s\tremaining: 0us\n",
      "\n",
      "bestTest = 0.009621392729\n",
      "bestIteration = 846\n",
      "\n",
      "Shrink model to first 847 iterations.\n",
      "metric of 2 is 0.101 \n",
      "\n",
      "running 3 :\n",
      "0:\tlearn: 0.0431718\ttest: 0.0431391\tbest: 0.0431391 (0)\ttotal: 27.3ms\tremaining: 54.5s\n",
      "400:\tlearn: 0.0070899\ttest: 0.0098479\tbest: 0.0098290 (373)\ttotal: 10.3s\tremaining: 41.2s\n",
      "800:\tlearn: 0.0056936\ttest: 0.0097033\tbest: 0.0096992 (747)\ttotal: 20.8s\tremaining: 31.1s\n",
      "1200:\tlearn: 0.0047992\ttest: 0.0096669\tbest: 0.0096632 (1197)\ttotal: 31.3s\tremaining: 20.9s\n",
      "1600:\tlearn: 0.0040732\ttest: 0.0096465\tbest: 0.0096307 (1362)\ttotal: 42.1s\tremaining: 10.5s\n",
      "1999:\tlearn: 0.0035423\ttest: 0.0096949\tbest: 0.0096307 (1362)\ttotal: 52.7s\tremaining: 0us\n",
      "\n",
      "bestTest = 0.009630686145\n",
      "bestIteration = 1362\n",
      "\n",
      "Shrink model to first 1363 iterations.\n",
      "metric of 3 is 0.095 \n",
      "\n",
      "running 4 :\n",
      "0:\tlearn: 0.0431628\ttest: 0.0431580\tbest: 0.0431580 (0)\ttotal: 24.8ms\tremaining: 49.5s\n",
      "400:\tlearn: 0.0065886\ttest: 0.0095493\tbest: 0.0095368 (369)\ttotal: 9.04s\tremaining: 36s\n",
      "800:\tlearn: 0.0048311\ttest: 0.0094159\tbest: 0.0093924 (714)\ttotal: 17.9s\tremaining: 26.8s\n",
      "1200:\tlearn: 0.0038494\ttest: 0.0094635\tbest: 0.0093924 (714)\ttotal: 26.8s\tremaining: 17.8s\n",
      "1600:\tlearn: 0.0031397\ttest: 0.0095017\tbest: 0.0093924 (714)\ttotal: 35.9s\tremaining: 8.95s\n",
      "1999:\tlearn: 0.0026355\ttest: 0.0095439\tbest: 0.0093924 (714)\ttotal: 45s\tremaining: 0us\n",
      "\n",
      "bestTest = 0.009392361458\n",
      "bestIteration = 714\n",
      "\n",
      "Shrink model to first 715 iterations.\n",
      "metric of 4 is 0.094 \n",
      "\n"
     ]
    }
   ],
   "source": [
    "models = []\n",
    "for i, train_set in enumerate((set_1, set_2, set_3, set_4, set_5)):\n",
    "    cat_cols = list(set(train_set) - set(num_cols))\n",
    "    X=train[train_set]\n",
    "    y=train.price_log\n",
    "    print(f'running {i} :',)\n",
    "    model, metric = evaluate(X,y,cat_cols)\n",
    "    models.append((model, metric))\n",
    "    print(f'metric of {i} is {metric:0.3f} \\n')\n",
    "    \n",
    "    \n",
    "    "
   ]
  },
  {
   "cell_type": "code",
   "execution_count": 50,
   "metadata": {},
   "outputs": [
    {
     "data": {
      "text/plain": [
       "[(<catboost.core.CatBoostRegressor at 0x1c437543608>, 0.09814974896313108),\n",
       " (<catboost.core.CatBoostRegressor at 0x1c43684e0c8>, 0.10315879948696398),\n",
       " (<catboost.core.CatBoostRegressor at 0x1c4340bf208>, 0.10081902098678594),\n",
       " (<catboost.core.CatBoostRegressor at 0x1c418461b88>, 0.09527514811013427),\n",
       " (<catboost.core.CatBoostRegressor at 0x1c436855188>, 0.09370931488506702)]"
      ]
     },
     "execution_count": 50,
     "metadata": {},
     "output_type": "execute_result"
    }
   ],
   "source": [
    "models"
   ]
  },
  {
   "cell_type": "code",
   "execution_count": 51,
   "metadata": {},
   "outputs": [
    {
     "data": {
      "image/png": "[encoded data removed]",
      "text/plain": [
       "<Figure size 1296x432 with 1 Axes>"
      ]
     },
     "metadata": {
      "needs_background": "light"
     },
     "output_type": "display_data"
    }
   ],
   "source": [
    "feat_importances = pd.Series(model.feature_importances_, index=set_5)\n",
    "plt.figure(figsize=(18,6))\n",
    "feat_importances.nlargest(30).plot(kind='barh');"
   ]
  },
  {
   "cell_type": "markdown",
   "metadata": {},
   "source": [
    "Лучший из (более чем пяти, приведены базовые варианты) результатов оказался базовым набором фич с добавленными полиномиальными, которые доминируют в рейтинге значимости. Стоит отметить, что метрика сабмита по сравнению с базовым вариантом была улучшена незначительно. Сокращение количества признаков до топа значимых (с довеском или без) точность не повышало. (Это касается и базовго сета, в частности)"
   ]
  },
  {
   "cell_type": "code",
   "execution_count": 52,
   "metadata": {},
   "outputs": [
    {
     "data": {
      "text/plain": [
       "array([1906162.12806915, 2691721.09985956, 1454625.32773661, ...,\n",
       "        494475.17759839, 1132687.98813828, 1200687.92828055])"
      ]
     },
     "execution_count": 52,
     "metadata": {},
     "output_type": "execute_result"
    }
   ],
   "source": [
    "submit_y = model.predict(test[set_5])\n",
    "submit_y = np.exp(submit_y/10000)\n",
    "submit_y # для проверки порядка значений "
   ]
  },
  {
   "cell_type": "code",
   "execution_count": 53,
   "metadata": {},
   "outputs": [],
   "source": [
    "sample_submission = pd.DataFrame()\n",
    "sample_submission['id']=sample_submission.index"
   ]
  },
  {
   "cell_type": "code",
   "execution_count": 54,
   "metadata": {},
   "outputs": [],
   "source": [
    "X=train[set_5]\n",
    "y=train.price_log\n",
    "X_sub = test[set_5]"
   ]
  },
  {
   "cell_type": "code",
   "execution_count": 55,
   "metadata": {},
   "outputs": [
    {
     "data": {
      "application/vnd.jupyter.widget-view+json": {
       "model_id": "eedda36d0e004827b25f2e09508c4476",
       "version_major": 2,
       "version_minor": 0
      },
      "text/plain": [
       "HBox(children=(FloatProgress(value=0.0, max=5.0), HTML(value='')))"
      ]
     },
     "metadata": {},
     "output_type": "display_data"
    },
    {
     "name": "stdout",
     "output_type": "stream",
     "text": [
      "1 Fold Test MAPE: 0.00905\n",
      "2 Fold Test MAPE: 0.00913\n",
      "3 Fold Test MAPE: 0.00978\n",
      "4 Fold Test MAPE: 0.00951\n",
      "5 Fold Test MAPE: 0.00938\n",
      "\n",
      "Mean Score: 0.009\n",
      "Std Score: 0.0003\n",
      "Max Score: 0.010\n",
      "Min Score: 0.009\n"
     ]
    }
   ],
   "source": [
    "\n",
    "VAL_SIZE   = 0.33   # 33%\n",
    "N_FOLDS    = 5\n",
    "\n",
    "# CATBOOST\n",
    "ITERATIONS = 2000\n",
    "LR         = 0.1\n",
    "\n",
    "\n",
    "ITERATIONS = 2000\n",
    "LR         = 0.1 # Параметры из hyperopt\n",
    "CSBL       = 0.6 # Но лучше без них\n",
    "MD         = 5\n",
    "\n",
    "\n",
    "                        \n",
    "\n",
    "\n",
    "def cat_model(y_train, X_train, X_test, y_test):\n",
    "    model = CatBoostRegressor(iterations = ITERATIONS,\n",
    "                              learning_rate = LR,\n",
    "                              #colsample_bylevel = CSBL, \n",
    "                              #max_depth = MD,\n",
    "                              eval_metric='MAPE',\n",
    "                              random_seed = RANDOM_SEED,)\n",
    "    model.fit(X_train, y_train,\n",
    "              cat_features=cat_cols,\n",
    "              eval_set=(X_test, y_test),\n",
    "              verbose=False,\n",
    "              use_best_model=True,\n",
    "              plot=False)\n",
    "    \n",
    "    return(model)\n",
    "\n",
    "\n",
    "\n",
    "submissions = pd.DataFrame(0,columns=[\"sub_1\"], index=sample_submission.index) # куда пишем предикты по каждой модели\n",
    "score_ls = []\n",
    "splits = list(KFold(n_splits=N_FOLDS, shuffle=True, random_state=RANDOM_SEED).split(X, y))\n",
    "\n",
    "for idx, (train_idx, test_idx) in tqdm(enumerate(splits), total=N_FOLDS,):\n",
    "    # use the indexes to extract the folds in the train and validation data\n",
    "    X_train, y_train, X_test, y_test = X.iloc[train_idx], y[train_idx], X.iloc[test_idx], y[test_idx]\n",
    "    # model for this fold\n",
    "    model = cat_model(y_train, X_train, X_test, y_test,)\n",
    "    # score model on test\n",
    "    test_predict = model.predict(X_test)\n",
    "    test_score = mape(y_test, test_predict)\n",
    "    score_ls.append(test_score)\n",
    "    print(f\"{idx+1} Fold Test MAPE: {mape(y_test, test_predict):0.5f}\")\n",
    "    # submissions\n",
    "    submissions[f'sub_{idx+1}'] = model.predict(X_sub)\n",
    "    #model.save_model(f'catboost_fold_{idx+1}.model')\n",
    "\n",
    "print(f'Mean Score: {np.mean(score_ls):0.3f}')\n",
    "print(f'Std Score: {np.std(score_ls):0.4f}')\n",
    "print(f'Max Score: {np.max(score_ls):0.3f}')\n",
    "print(f'Min Score: {np.min(score_ls):0.3f}')"
   ]
  },
  {
   "cell_type": "markdown",
   "metadata": {},
   "source": [
    "Как оказалось, разница в датировке сетов привела существенной поправке на курс/инфляцию, которую пришлось устанавливать подбором. "
   ]
  },
  {
   "cell_type": "code",
   "execution_count": 56,
   "metadata": {},
   "outputs": [],
   "source": [
    "RATE = 0.91\n",
    "sample_submission = pd.DataFrame()\n",
    "submissions['blend'] = submissions.mean(axis=1)\n",
    "\n",
    "\n",
    "sample_submission['id']=test['id']\n",
    "sample_submission['price'] = np.exp(submissions['blend']/10000)*RATE\n",
    "sample_submission.to_csv('another_one.csv', index=False)"
   ]
  }
 ],
 "metadata": {
  "kernelspec": {
   "display_name": "Python 3",
   "language": "python",
   "name": "python3"
  },
  "language_info": {
   "codemirror_mode": {
    "name": "ipython",
    "version": 3
   },
   "file_extension": ".py",
   "mimetype": "text/x-python",
   "name": "python",
   "nbconvert_exporter": "python",
   "pygments_lexer": "ipython3",
   "version": "3.7.4"
  }
 },
 "nbformat": 4,
 "nbformat_minor": 2
}
